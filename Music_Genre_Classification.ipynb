{
  "nbformat": 4,
  "nbformat_minor": 0,
  "metadata": {
    "colab": {
      "provenance": []
    },
    "kernelspec": {
      "name": "python3",
      "display_name": "Python 3"
    },
    "language_info": {
      "name": "python"
    }
  },
  "cells": [
    {
      "cell_type": "code",
      "execution_count": null,
      "metadata": {
        "colab": {
          "base_uri": "https://localhost:8080/"
        },
        "id": "yNqi7cMevvnZ",
        "outputId": "74e20bc4-effc-4b60-da1b-9bcbbf56e206"
      },
      "outputs": [
        {
          "output_type": "stream",
          "name": "stdout",
          "text": [
            "Mounted at /content/drive\n"
          ]
        }
      ],
      "source": [
        "from google.colab import drive\n",
        "drive.mount('/content/drive')"
      ]
    },
    {
      "cell_type": "code",
      "source": [
        "import os\n",
        "Root = \"/content/drive/My Drive/Colab_Notebooks/Music_Genre_Classification\"\n",
        "os.chdir(Root)"
      ],
      "metadata": {
        "id": "1n2ykiO8wJWL"
      },
      "execution_count": null,
      "outputs": []
    },
    {
      "cell_type": "code",
      "source": [
        "import pandas as pd\n",
        "import numpy as np\n",
        "import os\n",
        "import IPython.display as ipd\n",
        "import librosa\n",
        "import librosa.display\n",
        "import matplotlib.pyplot as plt\n",
        "%matplotlib inline"
      ],
      "metadata": {
        "id": "GXLKSPiA1dUW"
      },
      "execution_count": null,
      "outputs": []
    },
    {
      "cell_type": "code",
      "source": [
        "audio_dataset_path = '/content/drive/My Drive/Colab_Notebooks/Music_Genre_Classification/archive/Data/genres_original'\n",
        "metadata = pd.read_csv('/content/drive/My Drive/Colab_Notebooks/Music_Genre_Classification/archive/Data/features_30_sec.csv')\n",
        "metadata.head()"
      ],
      "metadata": {
        "id": "PVgZ6nFX1vMV",
        "colab": {
          "base_uri": "https://localhost:8080/",
          "height": 255
        },
        "outputId": "eb7cc36f-1d0e-410f-84df-50379451a8da"
      },
      "execution_count": null,
      "outputs": [
        {
          "output_type": "execute_result",
          "data": {
            "text/plain": [
              "          filename  length  chroma_stft_mean  chroma_stft_var  rms_mean  \\\n",
              "0  blues.00000.wav  661794          0.350088         0.088757  0.130228   \n",
              "1  blues.00001.wav  661794          0.340914         0.094980  0.095948   \n",
              "2  blues.00002.wav  661794          0.363637         0.085275  0.175570   \n",
              "3  blues.00003.wav  661794          0.404785         0.093999  0.141093   \n",
              "4  blues.00004.wav  661794          0.308526         0.087841  0.091529   \n",
              "\n",
              "    rms_var  spectral_centroid_mean  spectral_centroid_var  \\\n",
              "0  0.002827             1784.165850          129774.064525   \n",
              "1  0.002373             1530.176679          375850.073649   \n",
              "2  0.002746             1552.811865          156467.643368   \n",
              "3  0.006346             1070.106615          184355.942417   \n",
              "4  0.002303             1835.004266          343399.939274   \n",
              "\n",
              "   spectral_bandwidth_mean  spectral_bandwidth_var  ...  mfcc16_var  \\\n",
              "0              2002.449060            85882.761315  ...   52.420910   \n",
              "1              2039.036516           213843.755497  ...   55.356403   \n",
              "2              1747.702312            76254.192257  ...   40.598766   \n",
              "3              1596.412872           166441.494769  ...   44.427753   \n",
              "4              1748.172116            88445.209036  ...   86.099236   \n",
              "\n",
              "   mfcc17_mean  mfcc17_var  mfcc18_mean  mfcc18_var  mfcc19_mean  mfcc19_var  \\\n",
              "0    -1.690215   36.524071    -0.408979   41.597103    -2.303523   55.062923   \n",
              "1    -0.731125   60.314529     0.295073   48.120598    -0.283518   51.106190   \n",
              "2    -7.729093   47.639427    -1.816407   52.382141    -3.439720   46.639660   \n",
              "3    -3.319597   50.206673     0.636965   37.319130    -0.619121   37.259739   \n",
              "4    -5.454034   75.269707    -0.916874   53.613918    -4.404827   62.910812   \n",
              "\n",
              "   mfcc20_mean  mfcc20_var  label  \n",
              "0     1.221291   46.936035  blues  \n",
              "1     0.531217   45.786282  blues  \n",
              "2    -2.231258   30.573025  blues  \n",
              "3    -3.407448   31.949339  blues  \n",
              "4   -11.703234   55.195160  blues  \n",
              "\n",
              "[5 rows x 60 columns]"
            ],
            "text/html": [
              "\n",
              "  <div id=\"df-2ce973fb-f5c8-4c76-8212-7bd345b8d0a4\" class=\"colab-df-container\">\n",
              "    <div>\n",
              "<style scoped>\n",
              "    .dataframe tbody tr th:only-of-type {\n",
              "        vertical-align: middle;\n",
              "    }\n",
              "\n",
              "    .dataframe tbody tr th {\n",
              "        vertical-align: top;\n",
              "    }\n",
              "\n",
              "    .dataframe thead th {\n",
              "        text-align: right;\n",
              "    }\n",
              "</style>\n",
              "<table border=\"1\" class=\"dataframe\">\n",
              "  <thead>\n",
              "    <tr style=\"text-align: right;\">\n",
              "      <th></th>\n",
              "      <th>filename</th>\n",
              "      <th>length</th>\n",
              "      <th>chroma_stft_mean</th>\n",
              "      <th>chroma_stft_var</th>\n",
              "      <th>rms_mean</th>\n",
              "      <th>rms_var</th>\n",
              "      <th>spectral_centroid_mean</th>\n",
              "      <th>spectral_centroid_var</th>\n",
              "      <th>spectral_bandwidth_mean</th>\n",
              "      <th>spectral_bandwidth_var</th>\n",
              "      <th>...</th>\n",
              "      <th>mfcc16_var</th>\n",
              "      <th>mfcc17_mean</th>\n",
              "      <th>mfcc17_var</th>\n",
              "      <th>mfcc18_mean</th>\n",
              "      <th>mfcc18_var</th>\n",
              "      <th>mfcc19_mean</th>\n",
              "      <th>mfcc19_var</th>\n",
              "      <th>mfcc20_mean</th>\n",
              "      <th>mfcc20_var</th>\n",
              "      <th>label</th>\n",
              "    </tr>\n",
              "  </thead>\n",
              "  <tbody>\n",
              "    <tr>\n",
              "      <th>0</th>\n",
              "      <td>blues.00000.wav</td>\n",
              "      <td>661794</td>\n",
              "      <td>0.350088</td>\n",
              "      <td>0.088757</td>\n",
              "      <td>0.130228</td>\n",
              "      <td>0.002827</td>\n",
              "      <td>1784.165850</td>\n",
              "      <td>129774.064525</td>\n",
              "      <td>2002.449060</td>\n",
              "      <td>85882.761315</td>\n",
              "      <td>...</td>\n",
              "      <td>52.420910</td>\n",
              "      <td>-1.690215</td>\n",
              "      <td>36.524071</td>\n",
              "      <td>-0.408979</td>\n",
              "      <td>41.597103</td>\n",
              "      <td>-2.303523</td>\n",
              "      <td>55.062923</td>\n",
              "      <td>1.221291</td>\n",
              "      <td>46.936035</td>\n",
              "      <td>blues</td>\n",
              "    </tr>\n",
              "    <tr>\n",
              "      <th>1</th>\n",
              "      <td>blues.00001.wav</td>\n",
              "      <td>661794</td>\n",
              "      <td>0.340914</td>\n",
              "      <td>0.094980</td>\n",
              "      <td>0.095948</td>\n",
              "      <td>0.002373</td>\n",
              "      <td>1530.176679</td>\n",
              "      <td>375850.073649</td>\n",
              "      <td>2039.036516</td>\n",
              "      <td>213843.755497</td>\n",
              "      <td>...</td>\n",
              "      <td>55.356403</td>\n",
              "      <td>-0.731125</td>\n",
              "      <td>60.314529</td>\n",
              "      <td>0.295073</td>\n",
              "      <td>48.120598</td>\n",
              "      <td>-0.283518</td>\n",
              "      <td>51.106190</td>\n",
              "      <td>0.531217</td>\n",
              "      <td>45.786282</td>\n",
              "      <td>blues</td>\n",
              "    </tr>\n",
              "    <tr>\n",
              "      <th>2</th>\n",
              "      <td>blues.00002.wav</td>\n",
              "      <td>661794</td>\n",
              "      <td>0.363637</td>\n",
              "      <td>0.085275</td>\n",
              "      <td>0.175570</td>\n",
              "      <td>0.002746</td>\n",
              "      <td>1552.811865</td>\n",
              "      <td>156467.643368</td>\n",
              "      <td>1747.702312</td>\n",
              "      <td>76254.192257</td>\n",
              "      <td>...</td>\n",
              "      <td>40.598766</td>\n",
              "      <td>-7.729093</td>\n",
              "      <td>47.639427</td>\n",
              "      <td>-1.816407</td>\n",
              "      <td>52.382141</td>\n",
              "      <td>-3.439720</td>\n",
              "      <td>46.639660</td>\n",
              "      <td>-2.231258</td>\n",
              "      <td>30.573025</td>\n",
              "      <td>blues</td>\n",
              "    </tr>\n",
              "    <tr>\n",
              "      <th>3</th>\n",
              "      <td>blues.00003.wav</td>\n",
              "      <td>661794</td>\n",
              "      <td>0.404785</td>\n",
              "      <td>0.093999</td>\n",
              "      <td>0.141093</td>\n",
              "      <td>0.006346</td>\n",
              "      <td>1070.106615</td>\n",
              "      <td>184355.942417</td>\n",
              "      <td>1596.412872</td>\n",
              "      <td>166441.494769</td>\n",
              "      <td>...</td>\n",
              "      <td>44.427753</td>\n",
              "      <td>-3.319597</td>\n",
              "      <td>50.206673</td>\n",
              "      <td>0.636965</td>\n",
              "      <td>37.319130</td>\n",
              "      <td>-0.619121</td>\n",
              "      <td>37.259739</td>\n",
              "      <td>-3.407448</td>\n",
              "      <td>31.949339</td>\n",
              "      <td>blues</td>\n",
              "    </tr>\n",
              "    <tr>\n",
              "      <th>4</th>\n",
              "      <td>blues.00004.wav</td>\n",
              "      <td>661794</td>\n",
              "      <td>0.308526</td>\n",
              "      <td>0.087841</td>\n",
              "      <td>0.091529</td>\n",
              "      <td>0.002303</td>\n",
              "      <td>1835.004266</td>\n",
              "      <td>343399.939274</td>\n",
              "      <td>1748.172116</td>\n",
              "      <td>88445.209036</td>\n",
              "      <td>...</td>\n",
              "      <td>86.099236</td>\n",
              "      <td>-5.454034</td>\n",
              "      <td>75.269707</td>\n",
              "      <td>-0.916874</td>\n",
              "      <td>53.613918</td>\n",
              "      <td>-4.404827</td>\n",
              "      <td>62.910812</td>\n",
              "      <td>-11.703234</td>\n",
              "      <td>55.195160</td>\n",
              "      <td>blues</td>\n",
              "    </tr>\n",
              "  </tbody>\n",
              "</table>\n",
              "<p>5 rows × 60 columns</p>\n",
              "</div>\n",
              "    <div class=\"colab-df-buttons\">\n",
              "\n",
              "  <div class=\"colab-df-container\">\n",
              "    <button class=\"colab-df-convert\" onclick=\"convertToInteractive('df-2ce973fb-f5c8-4c76-8212-7bd345b8d0a4')\"\n",
              "            title=\"Convert this dataframe to an interactive table.\"\n",
              "            style=\"display:none;\">\n",
              "\n",
              "  <svg xmlns=\"http://www.w3.org/2000/svg\" height=\"24px\" viewBox=\"0 -960 960 960\">\n",
              "    <path d=\"M120-120v-720h720v720H120Zm60-500h600v-160H180v160Zm220 220h160v-160H400v160Zm0 220h160v-160H400v160ZM180-400h160v-160H180v160Zm440 0h160v-160H620v160ZM180-180h160v-160H180v160Zm440 0h160v-160H620v160Z\"/>\n",
              "  </svg>\n",
              "    </button>\n",
              "\n",
              "  <style>\n",
              "    .colab-df-container {\n",
              "      display:flex;\n",
              "      gap: 12px;\n",
              "    }\n",
              "\n",
              "    .colab-df-convert {\n",
              "      background-color: #E8F0FE;\n",
              "      border: none;\n",
              "      border-radius: 50%;\n",
              "      cursor: pointer;\n",
              "      display: none;\n",
              "      fill: #1967D2;\n",
              "      height: 32px;\n",
              "      padding: 0 0 0 0;\n",
              "      width: 32px;\n",
              "    }\n",
              "\n",
              "    .colab-df-convert:hover {\n",
              "      background-color: #E2EBFA;\n",
              "      box-shadow: 0px 1px 2px rgba(60, 64, 67, 0.3), 0px 1px 3px 1px rgba(60, 64, 67, 0.15);\n",
              "      fill: #174EA6;\n",
              "    }\n",
              "\n",
              "    .colab-df-buttons div {\n",
              "      margin-bottom: 4px;\n",
              "    }\n",
              "\n",
              "    [theme=dark] .colab-df-convert {\n",
              "      background-color: #3B4455;\n",
              "      fill: #D2E3FC;\n",
              "    }\n",
              "\n",
              "    [theme=dark] .colab-df-convert:hover {\n",
              "      background-color: #434B5C;\n",
              "      box-shadow: 0px 1px 3px 1px rgba(0, 0, 0, 0.15);\n",
              "      filter: drop-shadow(0px 1px 2px rgba(0, 0, 0, 0.3));\n",
              "      fill: #FFFFFF;\n",
              "    }\n",
              "  </style>\n",
              "\n",
              "    <script>\n",
              "      const buttonEl =\n",
              "        document.querySelector('#df-2ce973fb-f5c8-4c76-8212-7bd345b8d0a4 button.colab-df-convert');\n",
              "      buttonEl.style.display =\n",
              "        google.colab.kernel.accessAllowed ? 'block' : 'none';\n",
              "\n",
              "      async function convertToInteractive(key) {\n",
              "        const element = document.querySelector('#df-2ce973fb-f5c8-4c76-8212-7bd345b8d0a4');\n",
              "        const dataTable =\n",
              "          await google.colab.kernel.invokeFunction('convertToInteractive',\n",
              "                                                    [key], {});\n",
              "        if (!dataTable) return;\n",
              "\n",
              "        const docLinkHtml = 'Like what you see? Visit the ' +\n",
              "          '<a target=\"_blank\" href=https://colab.research.google.com/notebooks/data_table.ipynb>data table notebook</a>'\n",
              "          + ' to learn more about interactive tables.';\n",
              "        element.innerHTML = '';\n",
              "        dataTable['output_type'] = 'display_data';\n",
              "        await google.colab.output.renderOutput(dataTable, element);\n",
              "        const docLink = document.createElement('div');\n",
              "        docLink.innerHTML = docLinkHtml;\n",
              "        element.appendChild(docLink);\n",
              "      }\n",
              "    </script>\n",
              "  </div>\n",
              "\n",
              "\n",
              "<div id=\"df-a6920f93-be32-461d-a5be-e9d72587157e\">\n",
              "  <button class=\"colab-df-quickchart\" onclick=\"quickchart('df-a6920f93-be32-461d-a5be-e9d72587157e')\"\n",
              "            title=\"Suggest charts\"\n",
              "            style=\"display:none;\">\n",
              "\n",
              "<svg xmlns=\"http://www.w3.org/2000/svg\" height=\"24px\"viewBox=\"0 0 24 24\"\n",
              "     width=\"24px\">\n",
              "    <g>\n",
              "        <path d=\"M19 3H5c-1.1 0-2 .9-2 2v14c0 1.1.9 2 2 2h14c1.1 0 2-.9 2-2V5c0-1.1-.9-2-2-2zM9 17H7v-7h2v7zm4 0h-2V7h2v10zm4 0h-2v-4h2v4z\"/>\n",
              "    </g>\n",
              "</svg>\n",
              "  </button>\n",
              "\n",
              "<style>\n",
              "  .colab-df-quickchart {\n",
              "      --bg-color: #E8F0FE;\n",
              "      --fill-color: #1967D2;\n",
              "      --hover-bg-color: #E2EBFA;\n",
              "      --hover-fill-color: #174EA6;\n",
              "      --disabled-fill-color: #AAA;\n",
              "      --disabled-bg-color: #DDD;\n",
              "  }\n",
              "\n",
              "  [theme=dark] .colab-df-quickchart {\n",
              "      --bg-color: #3B4455;\n",
              "      --fill-color: #D2E3FC;\n",
              "      --hover-bg-color: #434B5C;\n",
              "      --hover-fill-color: #FFFFFF;\n",
              "      --disabled-bg-color: #3B4455;\n",
              "      --disabled-fill-color: #666;\n",
              "  }\n",
              "\n",
              "  .colab-df-quickchart {\n",
              "    background-color: var(--bg-color);\n",
              "    border: none;\n",
              "    border-radius: 50%;\n",
              "    cursor: pointer;\n",
              "    display: none;\n",
              "    fill: var(--fill-color);\n",
              "    height: 32px;\n",
              "    padding: 0;\n",
              "    width: 32px;\n",
              "  }\n",
              "\n",
              "  .colab-df-quickchart:hover {\n",
              "    background-color: var(--hover-bg-color);\n",
              "    box-shadow: 0 1px 2px rgba(60, 64, 67, 0.3), 0 1px 3px 1px rgba(60, 64, 67, 0.15);\n",
              "    fill: var(--button-hover-fill-color);\n",
              "  }\n",
              "\n",
              "  .colab-df-quickchart-complete:disabled,\n",
              "  .colab-df-quickchart-complete:disabled:hover {\n",
              "    background-color: var(--disabled-bg-color);\n",
              "    fill: var(--disabled-fill-color);\n",
              "    box-shadow: none;\n",
              "  }\n",
              "\n",
              "  .colab-df-spinner {\n",
              "    border: 2px solid var(--fill-color);\n",
              "    border-color: transparent;\n",
              "    border-bottom-color: var(--fill-color);\n",
              "    animation:\n",
              "      spin 1s steps(1) infinite;\n",
              "  }\n",
              "\n",
              "  @keyframes spin {\n",
              "    0% {\n",
              "      border-color: transparent;\n",
              "      border-bottom-color: var(--fill-color);\n",
              "      border-left-color: var(--fill-color);\n",
              "    }\n",
              "    20% {\n",
              "      border-color: transparent;\n",
              "      border-left-color: var(--fill-color);\n",
              "      border-top-color: var(--fill-color);\n",
              "    }\n",
              "    30% {\n",
              "      border-color: transparent;\n",
              "      border-left-color: var(--fill-color);\n",
              "      border-top-color: var(--fill-color);\n",
              "      border-right-color: var(--fill-color);\n",
              "    }\n",
              "    40% {\n",
              "      border-color: transparent;\n",
              "      border-right-color: var(--fill-color);\n",
              "      border-top-color: var(--fill-color);\n",
              "    }\n",
              "    60% {\n",
              "      border-color: transparent;\n",
              "      border-right-color: var(--fill-color);\n",
              "    }\n",
              "    80% {\n",
              "      border-color: transparent;\n",
              "      border-right-color: var(--fill-color);\n",
              "      border-bottom-color: var(--fill-color);\n",
              "    }\n",
              "    90% {\n",
              "      border-color: transparent;\n",
              "      border-bottom-color: var(--fill-color);\n",
              "    }\n",
              "  }\n",
              "</style>\n",
              "\n",
              "  <script>\n",
              "    async function quickchart(key) {\n",
              "      const quickchartButtonEl =\n",
              "        document.querySelector('#' + key + ' button');\n",
              "      quickchartButtonEl.disabled = true;  // To prevent multiple clicks.\n",
              "      quickchartButtonEl.classList.add('colab-df-spinner');\n",
              "      try {\n",
              "        const charts = await google.colab.kernel.invokeFunction(\n",
              "            'suggestCharts', [key], {});\n",
              "      } catch (error) {\n",
              "        console.error('Error during call to suggestCharts:', error);\n",
              "      }\n",
              "      quickchartButtonEl.classList.remove('colab-df-spinner');\n",
              "      quickchartButtonEl.classList.add('colab-df-quickchart-complete');\n",
              "    }\n",
              "    (() => {\n",
              "      let quickchartButtonEl =\n",
              "        document.querySelector('#df-a6920f93-be32-461d-a5be-e9d72587157e button');\n",
              "      quickchartButtonEl.style.display =\n",
              "        google.colab.kernel.accessAllowed ? 'block' : 'none';\n",
              "    })();\n",
              "  </script>\n",
              "</div>\n",
              "    </div>\n",
              "  </div>\n"
            ],
            "application/vnd.google.colaboratory.intrinsic+json": {
              "type": "dataframe",
              "variable_name": "metadata"
            }
          },
          "metadata": {},
          "execution_count": 4
        }
      ]
    },
    {
      "cell_type": "code",
      "source": [
        "def features_extractor(file):\n",
        "    audio, sample_rate = librosa.load(file_name, res_type = 'kaiser_fast')\n",
        "    mfccs_features = librosa.feature.mfcc(y = audio, sr = sample_rate, n_mfcc = 40)\n",
        "    mfcc_scaled_features = np.mean(mfccs_features.T,axis = 0)\n",
        "    return mfcc_scaled_features"
      ],
      "metadata": {
        "id": "KKjVluU173mH"
      },
      "execution_count": null,
      "outputs": []
    },
    {
      "cell_type": "code",
      "source": [
        "metadata.drop(labels = 552, axis = 0, inplace = True)"
      ],
      "metadata": {
        "id": "RzPS9wCX0Yw0"
      },
      "execution_count": null,
      "outputs": []
    },
    {
      "cell_type": "code",
      "source": [
        "from tqdm import tqdm\n",
        "extracted_features = []\n",
        "for index_num, row in tqdm(metadata.iterrows()):\n",
        "    try:\n",
        "        final_class_labels = row[\"label\"]\n",
        "        file_name = os.path.join(os.path.abspath(audio_dataset_path), final_class_labels+'/', str(row[\"filename\"]))\n",
        "        data = features_extractor(file_name)\n",
        "        extracted_features.append([data,final_class_labels])\n",
        "    except Exception as e:\n",
        "        print(f\"Error: {e}\")\n",
        "        continue"
      ],
      "metadata": {
        "id": "SJOSmR0R7_x1",
        "colab": {
          "base_uri": "https://localhost:8080/"
        },
        "outputId": "ea93c0f9-309b-4402-9501-e84b87546589"
      },
      "execution_count": null,
      "outputs": [
        {
          "output_type": "stream",
          "name": "stderr",
          "text": [
            "553it [04:01,  2.60it/s]<ipython-input-5-9914fb52cdc2>:2: UserWarning: PySoundFile failed. Trying audioread instead.\n",
            "  audio, sample_rate = librosa.load(file_name, res_type = 'kaiser_fast')\n",
            "/usr/local/lib/python3.10/dist-packages/librosa/core/audio.py:183: FutureWarning: librosa.core.audio.__audioread_load\n",
            "\tDeprecated as of librosa version 0.10.0.\n",
            "\tIt will be removed in librosa version 1.0.\n",
            "  y, sr_native = __audioread_load(path, offset, duration, dtype)\n",
            "554it [04:02,  1.76it/s]"
          ]
        },
        {
          "output_type": "stream",
          "name": "stdout",
          "text": [
            "Error: \n"
          ]
        },
        {
          "output_type": "stream",
          "name": "stderr",
          "text": [
            "999it [06:53,  2.41it/s]\n"
          ]
        }
      ]
    },
    {
      "cell_type": "code",
      "source": [
        "extracted_features_df = pd.DataFrame(extracted_features, columns=['feature', 'class'])\n",
        "extracted_features_df.head()"
      ],
      "metadata": {
        "id": "LqbLR4pb8BcS",
        "colab": {
          "base_uri": "https://localhost:8080/",
          "height": 206
        },
        "outputId": "2c35f902-3a8f-460f-8bda-b6687ce8ac3c"
      },
      "execution_count": null,
      "outputs": [
        {
          "output_type": "execute_result",
          "data": {
            "text/plain": [
              "                                             feature  class\n",
              "0  [-113.59882, 121.57067, -19.162262, 42.36394, ...  blues\n",
              "1  [-207.52383, 123.98514, 8.947019, 35.86715, 2....  blues\n",
              "2  [-90.757164, 140.44087, -29.084547, 31.686693,...  blues\n",
              "3  [-199.57513, 150.0861, 5.663404, 26.855282, 1....  blues\n",
              "4  [-160.35417, 126.20948, -35.581394, 22.139256,...  blues"
            ],
            "text/html": [
              "\n",
              "  <div id=\"df-bce875b6-bb78-4da4-a6e9-8f6df2807945\" class=\"colab-df-container\">\n",
              "    <div>\n",
              "<style scoped>\n",
              "    .dataframe tbody tr th:only-of-type {\n",
              "        vertical-align: middle;\n",
              "    }\n",
              "\n",
              "    .dataframe tbody tr th {\n",
              "        vertical-align: top;\n",
              "    }\n",
              "\n",
              "    .dataframe thead th {\n",
              "        text-align: right;\n",
              "    }\n",
              "</style>\n",
              "<table border=\"1\" class=\"dataframe\">\n",
              "  <thead>\n",
              "    <tr style=\"text-align: right;\">\n",
              "      <th></th>\n",
              "      <th>feature</th>\n",
              "      <th>class</th>\n",
              "    </tr>\n",
              "  </thead>\n",
              "  <tbody>\n",
              "    <tr>\n",
              "      <th>0</th>\n",
              "      <td>[-113.59882, 121.57067, -19.162262, 42.36394, ...</td>\n",
              "      <td>blues</td>\n",
              "    </tr>\n",
              "    <tr>\n",
              "      <th>1</th>\n",
              "      <td>[-207.52383, 123.98514, 8.947019, 35.86715, 2....</td>\n",
              "      <td>blues</td>\n",
              "    </tr>\n",
              "    <tr>\n",
              "      <th>2</th>\n",
              "      <td>[-90.757164, 140.44087, -29.084547, 31.686693,...</td>\n",
              "      <td>blues</td>\n",
              "    </tr>\n",
              "    <tr>\n",
              "      <th>3</th>\n",
              "      <td>[-199.57513, 150.0861, 5.663404, 26.855282, 1....</td>\n",
              "      <td>blues</td>\n",
              "    </tr>\n",
              "    <tr>\n",
              "      <th>4</th>\n",
              "      <td>[-160.35417, 126.20948, -35.581394, 22.139256,...</td>\n",
              "      <td>blues</td>\n",
              "    </tr>\n",
              "  </tbody>\n",
              "</table>\n",
              "</div>\n",
              "    <div class=\"colab-df-buttons\">\n",
              "\n",
              "  <div class=\"colab-df-container\">\n",
              "    <button class=\"colab-df-convert\" onclick=\"convertToInteractive('df-bce875b6-bb78-4da4-a6e9-8f6df2807945')\"\n",
              "            title=\"Convert this dataframe to an interactive table.\"\n",
              "            style=\"display:none;\">\n",
              "\n",
              "  <svg xmlns=\"http://www.w3.org/2000/svg\" height=\"24px\" viewBox=\"0 -960 960 960\">\n",
              "    <path d=\"M120-120v-720h720v720H120Zm60-500h600v-160H180v160Zm220 220h160v-160H400v160Zm0 220h160v-160H400v160ZM180-400h160v-160H180v160Zm440 0h160v-160H620v160ZM180-180h160v-160H180v160Zm440 0h160v-160H620v160Z\"/>\n",
              "  </svg>\n",
              "    </button>\n",
              "\n",
              "  <style>\n",
              "    .colab-df-container {\n",
              "      display:flex;\n",
              "      gap: 12px;\n",
              "    }\n",
              "\n",
              "    .colab-df-convert {\n",
              "      background-color: #E8F0FE;\n",
              "      border: none;\n",
              "      border-radius: 50%;\n",
              "      cursor: pointer;\n",
              "      display: none;\n",
              "      fill: #1967D2;\n",
              "      height: 32px;\n",
              "      padding: 0 0 0 0;\n",
              "      width: 32px;\n",
              "    }\n",
              "\n",
              "    .colab-df-convert:hover {\n",
              "      background-color: #E2EBFA;\n",
              "      box-shadow: 0px 1px 2px rgba(60, 64, 67, 0.3), 0px 1px 3px 1px rgba(60, 64, 67, 0.15);\n",
              "      fill: #174EA6;\n",
              "    }\n",
              "\n",
              "    .colab-df-buttons div {\n",
              "      margin-bottom: 4px;\n",
              "    }\n",
              "\n",
              "    [theme=dark] .colab-df-convert {\n",
              "      background-color: #3B4455;\n",
              "      fill: #D2E3FC;\n",
              "    }\n",
              "\n",
              "    [theme=dark] .colab-df-convert:hover {\n",
              "      background-color: #434B5C;\n",
              "      box-shadow: 0px 1px 3px 1px rgba(0, 0, 0, 0.15);\n",
              "      filter: drop-shadow(0px 1px 2px rgba(0, 0, 0, 0.3));\n",
              "      fill: #FFFFFF;\n",
              "    }\n",
              "  </style>\n",
              "\n",
              "    <script>\n",
              "      const buttonEl =\n",
              "        document.querySelector('#df-bce875b6-bb78-4da4-a6e9-8f6df2807945 button.colab-df-convert');\n",
              "      buttonEl.style.display =\n",
              "        google.colab.kernel.accessAllowed ? 'block' : 'none';\n",
              "\n",
              "      async function convertToInteractive(key) {\n",
              "        const element = document.querySelector('#df-bce875b6-bb78-4da4-a6e9-8f6df2807945');\n",
              "        const dataTable =\n",
              "          await google.colab.kernel.invokeFunction('convertToInteractive',\n",
              "                                                    [key], {});\n",
              "        if (!dataTable) return;\n",
              "\n",
              "        const docLinkHtml = 'Like what you see? Visit the ' +\n",
              "          '<a target=\"_blank\" href=https://colab.research.google.com/notebooks/data_table.ipynb>data table notebook</a>'\n",
              "          + ' to learn more about interactive tables.';\n",
              "        element.innerHTML = '';\n",
              "        dataTable['output_type'] = 'display_data';\n",
              "        await google.colab.output.renderOutput(dataTable, element);\n",
              "        const docLink = document.createElement('div');\n",
              "        docLink.innerHTML = docLinkHtml;\n",
              "        element.appendChild(docLink);\n",
              "      }\n",
              "    </script>\n",
              "  </div>\n",
              "\n",
              "\n",
              "<div id=\"df-0b07ae5a-c394-4b1f-91db-dedc0faa6779\">\n",
              "  <button class=\"colab-df-quickchart\" onclick=\"quickchart('df-0b07ae5a-c394-4b1f-91db-dedc0faa6779')\"\n",
              "            title=\"Suggest charts\"\n",
              "            style=\"display:none;\">\n",
              "\n",
              "<svg xmlns=\"http://www.w3.org/2000/svg\" height=\"24px\"viewBox=\"0 0 24 24\"\n",
              "     width=\"24px\">\n",
              "    <g>\n",
              "        <path d=\"M19 3H5c-1.1 0-2 .9-2 2v14c0 1.1.9 2 2 2h14c1.1 0 2-.9 2-2V5c0-1.1-.9-2-2-2zM9 17H7v-7h2v7zm4 0h-2V7h2v10zm4 0h-2v-4h2v4z\"/>\n",
              "    </g>\n",
              "</svg>\n",
              "  </button>\n",
              "\n",
              "<style>\n",
              "  .colab-df-quickchart {\n",
              "      --bg-color: #E8F0FE;\n",
              "      --fill-color: #1967D2;\n",
              "      --hover-bg-color: #E2EBFA;\n",
              "      --hover-fill-color: #174EA6;\n",
              "      --disabled-fill-color: #AAA;\n",
              "      --disabled-bg-color: #DDD;\n",
              "  }\n",
              "\n",
              "  [theme=dark] .colab-df-quickchart {\n",
              "      --bg-color: #3B4455;\n",
              "      --fill-color: #D2E3FC;\n",
              "      --hover-bg-color: #434B5C;\n",
              "      --hover-fill-color: #FFFFFF;\n",
              "      --disabled-bg-color: #3B4455;\n",
              "      --disabled-fill-color: #666;\n",
              "  }\n",
              "\n",
              "  .colab-df-quickchart {\n",
              "    background-color: var(--bg-color);\n",
              "    border: none;\n",
              "    border-radius: 50%;\n",
              "    cursor: pointer;\n",
              "    display: none;\n",
              "    fill: var(--fill-color);\n",
              "    height: 32px;\n",
              "    padding: 0;\n",
              "    width: 32px;\n",
              "  }\n",
              "\n",
              "  .colab-df-quickchart:hover {\n",
              "    background-color: var(--hover-bg-color);\n",
              "    box-shadow: 0 1px 2px rgba(60, 64, 67, 0.3), 0 1px 3px 1px rgba(60, 64, 67, 0.15);\n",
              "    fill: var(--button-hover-fill-color);\n",
              "  }\n",
              "\n",
              "  .colab-df-quickchart-complete:disabled,\n",
              "  .colab-df-quickchart-complete:disabled:hover {\n",
              "    background-color: var(--disabled-bg-color);\n",
              "    fill: var(--disabled-fill-color);\n",
              "    box-shadow: none;\n",
              "  }\n",
              "\n",
              "  .colab-df-spinner {\n",
              "    border: 2px solid var(--fill-color);\n",
              "    border-color: transparent;\n",
              "    border-bottom-color: var(--fill-color);\n",
              "    animation:\n",
              "      spin 1s steps(1) infinite;\n",
              "  }\n",
              "\n",
              "  @keyframes spin {\n",
              "    0% {\n",
              "      border-color: transparent;\n",
              "      border-bottom-color: var(--fill-color);\n",
              "      border-left-color: var(--fill-color);\n",
              "    }\n",
              "    20% {\n",
              "      border-color: transparent;\n",
              "      border-left-color: var(--fill-color);\n",
              "      border-top-color: var(--fill-color);\n",
              "    }\n",
              "    30% {\n",
              "      border-color: transparent;\n",
              "      border-left-color: var(--fill-color);\n",
              "      border-top-color: var(--fill-color);\n",
              "      border-right-color: var(--fill-color);\n",
              "    }\n",
              "    40% {\n",
              "      border-color: transparent;\n",
              "      border-right-color: var(--fill-color);\n",
              "      border-top-color: var(--fill-color);\n",
              "    }\n",
              "    60% {\n",
              "      border-color: transparent;\n",
              "      border-right-color: var(--fill-color);\n",
              "    }\n",
              "    80% {\n",
              "      border-color: transparent;\n",
              "      border-right-color: var(--fill-color);\n",
              "      border-bottom-color: var(--fill-color);\n",
              "    }\n",
              "    90% {\n",
              "      border-color: transparent;\n",
              "      border-bottom-color: var(--fill-color);\n",
              "    }\n",
              "  }\n",
              "</style>\n",
              "\n",
              "  <script>\n",
              "    async function quickchart(key) {\n",
              "      const quickchartButtonEl =\n",
              "        document.querySelector('#' + key + ' button');\n",
              "      quickchartButtonEl.disabled = true;  // To prevent multiple clicks.\n",
              "      quickchartButtonEl.classList.add('colab-df-spinner');\n",
              "      try {\n",
              "        const charts = await google.colab.kernel.invokeFunction(\n",
              "            'suggestCharts', [key], {});\n",
              "      } catch (error) {\n",
              "        console.error('Error during call to suggestCharts:', error);\n",
              "      }\n",
              "      quickchartButtonEl.classList.remove('colab-df-spinner');\n",
              "      quickchartButtonEl.classList.add('colab-df-quickchart-complete');\n",
              "    }\n",
              "    (() => {\n",
              "      let quickchartButtonEl =\n",
              "        document.querySelector('#df-0b07ae5a-c394-4b1f-91db-dedc0faa6779 button');\n",
              "      quickchartButtonEl.style.display =\n",
              "        google.colab.kernel.accessAllowed ? 'block' : 'none';\n",
              "    })();\n",
              "  </script>\n",
              "</div>\n",
              "    </div>\n",
              "  </div>\n"
            ],
            "application/vnd.google.colaboratory.intrinsic+json": {
              "type": "dataframe",
              "variable_name": "extracted_features_df",
              "summary": "{\n  \"name\": \"extracted_features_df\",\n  \"rows\": 998,\n  \"fields\": [\n    {\n      \"column\": \"feature\",\n      \"properties\": {\n        \"dtype\": \"object\",\n        \"semantic_type\": \"\",\n        \"description\": \"\"\n      }\n    },\n    {\n      \"column\": \"class\",\n      \"properties\": {\n        \"dtype\": \"category\",\n        \"num_unique_values\": 10,\n        \"samples\": [\n          \"reggae\",\n          \"classical\",\n          \"jazz\"\n        ],\n        \"semantic_type\": \"\",\n        \"description\": \"\"\n      }\n    }\n  ]\n}"
            }
          },
          "metadata": {},
          "execution_count": 9
        }
      ]
    },
    {
      "cell_type": "code",
      "source": [
        "extracted_features_df['class'].value_counts()"
      ],
      "metadata": {
        "colab": {
          "base_uri": "https://localhost:8080/"
        },
        "id": "ubc4BIPg0rUS",
        "outputId": "4f2db9e9-d2de-4016-c2c6-78d85070fead"
      },
      "execution_count": null,
      "outputs": [
        {
          "output_type": "execute_result",
          "data": {
            "text/plain": [
              "class\n",
              "blues        100\n",
              "classical    100\n",
              "country      100\n",
              "disco        100\n",
              "hiphop       100\n",
              "metal        100\n",
              "pop          100\n",
              "reggae       100\n",
              "rock         100\n",
              "jazz          98\n",
              "Name: count, dtype: int64"
            ]
          },
          "metadata": {},
          "execution_count": 10
        }
      ]
    },
    {
      "cell_type": "code",
      "source": [
        "X = np.array(extracted_features_df['feature'].tolist())\n",
        "y = np.array(extracted_features_df['class'].tolist())"
      ],
      "metadata": {
        "id": "k5d9dFqU8DMA"
      },
      "execution_count": null,
      "outputs": []
    },
    {
      "cell_type": "code",
      "source": [
        "X.shape"
      ],
      "metadata": {
        "id": "M3WuG6xc8F7c",
        "colab": {
          "base_uri": "https://localhost:8080/"
        },
        "outputId": "2a8370a0-2fe8-41a6-d96b-7782fc5d6f50"
      },
      "execution_count": null,
      "outputs": [
        {
          "output_type": "execute_result",
          "data": {
            "text/plain": [
              "(998, 40)"
            ]
          },
          "metadata": {},
          "execution_count": 12
        }
      ]
    },
    {
      "cell_type": "code",
      "source": [
        "from tensorflow.keras.utils import to_categorical\n",
        "from sklearn.preprocessing import LabelEncoder\n",
        "labelencoder = LabelEncoder()\n",
        "y=to_categorical(labelencoder.fit_transform(y))"
      ],
      "metadata": {
        "id": "-LuFlFo58HuI"
      },
      "execution_count": null,
      "outputs": []
    },
    {
      "cell_type": "code",
      "source": [
        "y.shape"
      ],
      "metadata": {
        "id": "5OUujJB3eQAF",
        "colab": {
          "base_uri": "https://localhost:8080/"
        },
        "outputId": "7c849cb0-be1b-4bdb-be16-bd6d74f979fe"
      },
      "execution_count": null,
      "outputs": [
        {
          "output_type": "execute_result",
          "data": {
            "text/plain": [
              "(998, 10)"
            ]
          },
          "metadata": {},
          "execution_count": 14
        }
      ]
    },
    {
      "cell_type": "code",
      "source": [
        "from sklearn.model_selection import train_test_split\n",
        "X_train, X_test, y_train, y_test = train_test_split(X,y,test_size=0.2,random_state=0)"
      ],
      "metadata": {
        "id": "U79mg3lhe6jO"
      },
      "execution_count": null,
      "outputs": []
    },
    {
      "cell_type": "code",
      "source": [
        "X_train"
      ],
      "metadata": {
        "id": "R78yMy4dfXUx",
        "colab": {
          "base_uri": "https://localhost:8080/"
        },
        "outputId": "2632e4c7-0a4a-4254-99a8-a632c5163b48"
      },
      "execution_count": null,
      "outputs": [
        {
          "output_type": "execute_result",
          "data": {
            "text/plain": [
              "array([[-1.04723763e+02,  8.77537155e+01, -3.32488594e+01, ...,\n",
              "        -2.38248801e+00, -1.36347139e+00, -7.22123563e-01],\n",
              "       [-2.59909851e+02,  1.23193169e+02, -6.39508581e+00, ...,\n",
              "        -6.73697710e+00, -3.90829515e+00,  3.18117642e+00],\n",
              "       [-1.15755066e+02,  6.70791245e+01,  1.88346851e+00, ...,\n",
              "        -3.43661404e+00, -1.73870683e+00, -4.68738191e-02],\n",
              "       ...,\n",
              "       [-1.25020428e+01,  9.13173676e+01, -2.30759563e+01, ...,\n",
              "        -4.04763937e+00, -1.77685583e+00, -1.75431299e+00],\n",
              "       [-2.37930984e+01,  8.29835587e+01,  2.32049227e+00, ...,\n",
              "         1.40550292e+00,  4.16220367e-01, -3.45980115e-02],\n",
              "       [-9.63196945e+01,  9.09497147e+01, -3.22195396e+01, ...,\n",
              "        -2.41483903e+00, -1.62698299e-01, -1.84749973e+00]], dtype=float32)"
            ]
          },
          "metadata": {},
          "execution_count": 16
        }
      ]
    },
    {
      "cell_type": "code",
      "source": [
        "print(X_train.shape)\n",
        "print(X_test.shape)\n",
        "print(y_train.shape)\n",
        "print(y_test.shape)"
      ],
      "metadata": {
        "id": "QSVPNo9kfeqV",
        "colab": {
          "base_uri": "https://localhost:8080/"
        },
        "outputId": "939dc9e2-e0ed-4e00-db67-e96edd5afa6c"
      },
      "execution_count": null,
      "outputs": [
        {
          "output_type": "stream",
          "name": "stdout",
          "text": [
            "(798, 40)\n",
            "(200, 40)\n",
            "(798, 10)\n",
            "(200, 10)\n"
          ]
        }
      ]
    },
    {
      "cell_type": "code",
      "source": [
        "import tensorflow as tf\n",
        "print(tf.__version__)"
      ],
      "metadata": {
        "id": "MIyNmxktf18u",
        "colab": {
          "base_uri": "https://localhost:8080/"
        },
        "outputId": "c245c09d-3f99-45cd-a192-0fd6f6bbe545"
      },
      "execution_count": null,
      "outputs": [
        {
          "output_type": "stream",
          "name": "stdout",
          "text": [
            "2.15.0\n"
          ]
        }
      ]
    },
    {
      "cell_type": "code",
      "source": [
        "from tensorflow.keras.models import Sequential\n",
        "from tensorflow.keras.layers import Dense, Dropout, Activation, Flatten\n",
        "from tensorflow.keras.optimizers import Adam\n",
        "from sklearn import metrics"
      ],
      "metadata": {
        "id": "ZdVlkNP8gIQR"
      },
      "execution_count": null,
      "outputs": []
    },
    {
      "cell_type": "code",
      "source": [
        "num_labels = y.shape[1]"
      ],
      "metadata": {
        "id": "TM6W4aJ19STz"
      },
      "execution_count": null,
      "outputs": []
    },
    {
      "cell_type": "code",
      "source": [
        "model = Sequential()\n",
        "model.add(Dense(1024,input_shape=(40,),activation=\"relu\"))\n",
        "model.add(Dropout(0.3))\n",
        "model.add(Dense(512,activation=\"relu\"))\n",
        "model.add(Dropout(0.3))\n",
        "model.add(Dense(256,activation=\"relu\"))\n",
        "model.add(Dropout(0.3))\n",
        "model.add(Dense(128,activation=\"relu\"))\n",
        "model.add(Dropout(0.3))\n",
        "model.add(Dense(64,activation=\"relu\"))\n",
        "model.add(Dropout(0.3))\n",
        "model.add(Dense(32,activation=\"relu\"))\n",
        "model.add(Dropout(0.3))\n",
        "\n",
        "model.add(Dense(num_labels,activation=\"softmax\"))"
      ],
      "metadata": {
        "id": "21JRWc2i9bHj"
      },
      "execution_count": null,
      "outputs": []
    },
    {
      "cell_type": "code",
      "source": [
        "model.summary()"
      ],
      "metadata": {
        "id": "2x-bsPuEY28W",
        "colab": {
          "base_uri": "https://localhost:8080/"
        },
        "outputId": "d139a6fb-03ed-4abb-901b-ec23a95a722c"
      },
      "execution_count": null,
      "outputs": [
        {
          "output_type": "stream",
          "name": "stdout",
          "text": [
            "Model: \"sequential\"\n",
            "_________________________________________________________________\n",
            " Layer (type)                Output Shape              Param #   \n",
            "=================================================================\n",
            " dense (Dense)               (None, 1024)              41984     \n",
            "                                                                 \n",
            " dropout (Dropout)           (None, 1024)              0         \n",
            "                                                                 \n",
            " dense_1 (Dense)             (None, 512)               524800    \n",
            "                                                                 \n",
            " dropout_1 (Dropout)         (None, 512)               0         \n",
            "                                                                 \n",
            " dense_2 (Dense)             (None, 256)               131328    \n",
            "                                                                 \n",
            " dropout_2 (Dropout)         (None, 256)               0         \n",
            "                                                                 \n",
            " dense_3 (Dense)             (None, 128)               32896     \n",
            "                                                                 \n",
            " dropout_3 (Dropout)         (None, 128)               0         \n",
            "                                                                 \n",
            " dense_4 (Dense)             (None, 64)                8256      \n",
            "                                                                 \n",
            " dropout_4 (Dropout)         (None, 64)                0         \n",
            "                                                                 \n",
            " dense_5 (Dense)             (None, 32)                2080      \n",
            "                                                                 \n",
            " dropout_5 (Dropout)         (None, 32)                0         \n",
            "                                                                 \n",
            " dense_6 (Dense)             (None, 10)                330       \n",
            "                                                                 \n",
            "=================================================================\n",
            "Total params: 741674 (2.83 MB)\n",
            "Trainable params: 741674 (2.83 MB)\n",
            "Non-trainable params: 0 (0.00 Byte)\n",
            "_________________________________________________________________\n"
          ]
        }
      ]
    },
    {
      "cell_type": "code",
      "source": [
        "model.compile(loss='categorical_crossentropy',metrics=['accuracy'],optimizer='adam')"
      ],
      "metadata": {
        "id": "AvhEh8A6Y5Jc"
      },
      "execution_count": null,
      "outputs": []
    },
    {
      "cell_type": "code",
      "source": [
        "import time\n",
        "t = time.localtime()\n",
        "current_time = time.strftime(\"%H:%M:%S\",t)"
      ],
      "metadata": {
        "id": "MAQDyAMTZUSE"
      },
      "execution_count": null,
      "outputs": []
    },
    {
      "cell_type": "code",
      "source": [
        "from tensorflow.keras.callbacks import ModelCheckpoint\n",
        "from datetime import datetime\n",
        "\n",
        "num_epochs = 100\n",
        "num_batch_size = 32\n",
        "\n",
        "checkpointer = ModelCheckpoint(filepath=f'saved_models/audio_classification_{current_time}.hdf5', verbose=1, save_best_only=True)\n",
        "start = datetime.now()\n",
        "history = model.fit(X_train, y_train, batch_size=num_batch_size, epochs=num_epochs, validation_data=(X_test, y_test), callbacks = checkpointer, verbose = 1)\n",
        "duration= datetime.now() - start\n",
        "print(\"Training completed in time: \", duration)"
      ],
      "metadata": {
        "id": "PE1cQqvUcJEI",
        "colab": {
          "base_uri": "https://localhost:8080/"
        },
        "outputId": "20da1249-6230-42dc-b833-288432793a62"
      },
      "execution_count": null,
      "outputs": [
        {
          "output_type": "stream",
          "name": "stdout",
          "text": [
            "Epoch 1/100\n",
            "25/25 [==============================] - ETA: 0s - loss: 4.4661 - accuracy: 0.0977\n",
            "Epoch 1: val_loss improved from inf to 2.28582, saving model to saved_models/audio_classification_02:36:16.hdf5\n"
          ]
        },
        {
          "output_type": "stream",
          "name": "stderr",
          "text": [
            "/usr/local/lib/python3.10/dist-packages/keras/src/engine/training.py:3103: UserWarning: You are saving your model as an HDF5 file via `model.save()`. This file format is considered legacy. We recommend using instead the native Keras format, e.g. `model.save('my_model.keras')`.\n",
            "  saving_api.save_model(\n"
          ]
        },
        {
          "output_type": "stream",
          "name": "stdout",
          "text": [
            "\b\b\b\b\b\b\b\b\b\b\b\b\b\b\b\b\b\b\b\b\b\b\b\b\b\b\b\b\b\b\b\b\b\b\b\b\b\b\b\b\b\b\b\b\b\b\b\b\b\b\b\b\b\b\b\b\b\b\b\b\b\b\b\b\b\b\b\b\b\b\b\b\b\b\b\b\b\b\b\b\b\b\r25/25 [==============================] - 7s 71ms/step - loss: 4.4661 - accuracy: 0.0977 - val_loss: 2.2858 - val_accuracy: 0.1300\n",
            "Epoch 2/100\n",
            "24/25 [===========================>..] - ETA: 0s - loss: 2.5972 - accuracy: 0.1094\n",
            "Epoch 2: val_loss did not improve from 2.28582\n",
            "25/25 [==============================] - 1s 25ms/step - loss: 2.5952 - accuracy: 0.1078 - val_loss: 2.2893 - val_accuracy: 0.1350\n",
            "Epoch 3/100\n",
            "24/25 [===========================>..] - ETA: 0s - loss: 2.3855 - accuracy: 0.1367\n",
            "Epoch 3: val_loss improved from 2.28582 to 2.25904, saving model to saved_models/audio_classification_02:36:16.hdf5\n",
            "25/25 [==============================] - 1s 30ms/step - loss: 2.3803 - accuracy: 0.1416 - val_loss: 2.2590 - val_accuracy: 0.1100\n",
            "Epoch 4/100\n",
            "23/25 [==========================>...] - ETA: 0s - loss: 2.3237 - accuracy: 0.1332\n",
            "Epoch 4: val_loss did not improve from 2.25904\n",
            "25/25 [==============================] - 0s 19ms/step - loss: 2.3223 - accuracy: 0.1316 - val_loss: 2.2681 - val_accuracy: 0.1400\n",
            "Epoch 5/100\n",
            "25/25 [==============================] - ETA: 0s - loss: 2.2625 - accuracy: 0.1429\n",
            "Epoch 5: val_loss improved from 2.25904 to 2.24043, saving model to saved_models/audio_classification_02:36:16.hdf5\n",
            "25/25 [==============================] - 1s 27ms/step - loss: 2.2625 - accuracy: 0.1429 - val_loss: 2.2404 - val_accuracy: 0.1600\n",
            "Epoch 6/100\n",
            "24/25 [===========================>..] - ETA: 0s - loss: 2.2795 - accuracy: 0.1562\n",
            "Epoch 6: val_loss did not improve from 2.24043\n",
            "25/25 [==============================] - 1s 26ms/step - loss: 2.2800 - accuracy: 0.1541 - val_loss: 2.2685 - val_accuracy: 0.1800\n",
            "Epoch 7/100\n",
            "24/25 [===========================>..] - ETA: 0s - loss: 2.2352 - accuracy: 0.1523\n",
            "Epoch 7: val_loss did not improve from 2.24043\n",
            "25/25 [==============================] - 1s 27ms/step - loss: 2.2371 - accuracy: 0.1504 - val_loss: 2.2532 - val_accuracy: 0.1700\n",
            "Epoch 8/100\n",
            "25/25 [==============================] - ETA: 0s - loss: 2.1978 - accuracy: 0.1541\n",
            "Epoch 8: val_loss improved from 2.24043 to 2.19283, saving model to saved_models/audio_classification_02:36:16.hdf5\n",
            "25/25 [==============================] - 1s 32ms/step - loss: 2.1978 - accuracy: 0.1541 - val_loss: 2.1928 - val_accuracy: 0.1550\n",
            "Epoch 9/100\n",
            "24/25 [===========================>..] - ETA: 0s - loss: 2.1961 - accuracy: 0.2018\n",
            "Epoch 9: val_loss improved from 2.19283 to 2.13629, saving model to saved_models/audio_classification_02:36:16.hdf5\n",
            "25/25 [==============================] - 1s 34ms/step - loss: 2.1957 - accuracy: 0.2018 - val_loss: 2.1363 - val_accuracy: 0.2850\n",
            "Epoch 10/100\n",
            "24/25 [===========================>..] - ETA: 0s - loss: 2.1489 - accuracy: 0.1953\n",
            "Epoch 10: val_loss improved from 2.13629 to 2.10177, saving model to saved_models/audio_classification_02:36:16.hdf5\n",
            "25/25 [==============================] - 1s 36ms/step - loss: 2.1413 - accuracy: 0.2018 - val_loss: 2.1018 - val_accuracy: 0.2900\n",
            "Epoch 11/100\n",
            "23/25 [==========================>...] - ETA: 0s - loss: 2.1195 - accuracy: 0.2133\n",
            "Epoch 11: val_loss improved from 2.10177 to 2.03152, saving model to saved_models/audio_classification_02:36:16.hdf5\n",
            "25/25 [==============================] - 1s 37ms/step - loss: 2.1225 - accuracy: 0.2143 - val_loss: 2.0315 - val_accuracy: 0.2950\n",
            "Epoch 12/100\n",
            "24/25 [===========================>..] - ETA: 0s - loss: 2.1079 - accuracy: 0.2253\n",
            "Epoch 12: val_loss improved from 2.03152 to 2.02989, saving model to saved_models/audio_classification_02:36:16.hdf5\n",
            "25/25 [==============================] - 1s 31ms/step - loss: 2.1020 - accuracy: 0.2268 - val_loss: 2.0299 - val_accuracy: 0.3150\n",
            "Epoch 13/100\n",
            "25/25 [==============================] - ETA: 0s - loss: 2.0551 - accuracy: 0.2569\n",
            "Epoch 13: val_loss improved from 2.02989 to 1.94734, saving model to saved_models/audio_classification_02:36:16.hdf5\n",
            "25/25 [==============================] - 1s 30ms/step - loss: 2.0551 - accuracy: 0.2569 - val_loss: 1.9473 - val_accuracy: 0.3400\n",
            "Epoch 14/100\n",
            "24/25 [===========================>..] - ETA: 0s - loss: 1.9666 - accuracy: 0.2500\n",
            "Epoch 14: val_loss improved from 1.94734 to 1.90140, saving model to saved_models/audio_classification_02:36:16.hdf5\n",
            "25/25 [==============================] - 1s 34ms/step - loss: 1.9615 - accuracy: 0.2494 - val_loss: 1.9014 - val_accuracy: 0.3450\n",
            "Epoch 15/100\n",
            "24/25 [===========================>..] - ETA: 0s - loss: 2.0079 - accuracy: 0.2578\n",
            "Epoch 15: val_loss did not improve from 1.90140\n",
            "25/25 [==============================] - 1s 27ms/step - loss: 2.0052 - accuracy: 0.2607 - val_loss: 1.9225 - val_accuracy: 0.3150\n",
            "Epoch 16/100\n",
            "23/25 [==========================>...] - ETA: 0s - loss: 1.9064 - accuracy: 0.2935\n",
            "Epoch 16: val_loss improved from 1.90140 to 1.84796, saving model to saved_models/audio_classification_02:36:16.hdf5\n",
            "25/25 [==============================] - 1s 25ms/step - loss: 1.9186 - accuracy: 0.2832 - val_loss: 1.8480 - val_accuracy: 0.3250\n",
            "Epoch 17/100\n",
            "22/25 [=========================>....] - ETA: 0s - loss: 1.9109 - accuracy: 0.3040\n",
            "Epoch 17: val_loss did not improve from 1.84796\n",
            "25/25 [==============================] - 0s 19ms/step - loss: 1.9104 - accuracy: 0.3033 - val_loss: 1.8582 - val_accuracy: 0.3600\n",
            "Epoch 18/100\n",
            "24/25 [===========================>..] - ETA: 0s - loss: 1.9179 - accuracy: 0.3008\n",
            "Epoch 18: val_loss improved from 1.84796 to 1.82106, saving model to saved_models/audio_classification_02:36:16.hdf5\n",
            "25/25 [==============================] - 1s 24ms/step - loss: 1.9131 - accuracy: 0.3033 - val_loss: 1.8211 - val_accuracy: 0.3350\n",
            "Epoch 19/100\n",
            "23/25 [==========================>...] - ETA: 0s - loss: 1.9017 - accuracy: 0.2976\n",
            "Epoch 19: val_loss did not improve from 1.82106\n",
            "25/25 [==============================] - 0s 19ms/step - loss: 1.9094 - accuracy: 0.2995 - val_loss: 1.8579 - val_accuracy: 0.3250\n",
            "Epoch 20/100\n",
            "25/25 [==============================] - ETA: 0s - loss: 1.8696 - accuracy: 0.3058\n",
            "Epoch 20: val_loss improved from 1.82106 to 1.78111, saving model to saved_models/audio_classification_02:36:16.hdf5\n",
            "25/25 [==============================] - 1s 24ms/step - loss: 1.8696 - accuracy: 0.3058 - val_loss: 1.7811 - val_accuracy: 0.3450\n",
            "Epoch 21/100\n",
            "24/25 [===========================>..] - ETA: 0s - loss: 1.8443 - accuracy: 0.3151\n",
            "Epoch 21: val_loss did not improve from 1.78111\n",
            "25/25 [==============================] - 1s 21ms/step - loss: 1.8539 - accuracy: 0.3120 - val_loss: 1.7991 - val_accuracy: 0.3400\n",
            "Epoch 22/100\n",
            "23/25 [==========================>...] - ETA: 0s - loss: 1.8476 - accuracy: 0.3139\n",
            "Epoch 22: val_loss did not improve from 1.78111\n",
            "25/25 [==============================] - 1s 20ms/step - loss: 1.8447 - accuracy: 0.3195 - val_loss: 1.7817 - val_accuracy: 0.3650\n",
            "Epoch 23/100\n",
            "23/25 [==========================>...] - ETA: 0s - loss: 1.8305 - accuracy: 0.3139\n",
            "Epoch 23: val_loss did not improve from 1.78111\n",
            "25/25 [==============================] - 1s 20ms/step - loss: 1.8075 - accuracy: 0.3208 - val_loss: 1.7890 - val_accuracy: 0.3700\n",
            "Epoch 24/100\n",
            "24/25 [===========================>..] - ETA: 0s - loss: 1.7927 - accuracy: 0.3242\n",
            "Epoch 24: val_loss improved from 1.78111 to 1.77134, saving model to saved_models/audio_classification_02:36:16.hdf5\n",
            "25/25 [==============================] - 1s 25ms/step - loss: 1.7973 - accuracy: 0.3221 - val_loss: 1.7713 - val_accuracy: 0.3500\n",
            "Epoch 25/100\n",
            "23/25 [==========================>...] - ETA: 0s - loss: 1.7600 - accuracy: 0.3356\n",
            "Epoch 25: val_loss improved from 1.77134 to 1.76964, saving model to saved_models/audio_classification_02:36:16.hdf5\n",
            "25/25 [==============================] - 1s 24ms/step - loss: 1.7573 - accuracy: 0.3371 - val_loss: 1.7696 - val_accuracy: 0.3450\n",
            "Epoch 26/100\n",
            "24/25 [===========================>..] - ETA: 0s - loss: 1.7389 - accuracy: 0.3542\n",
            "Epoch 26: val_loss improved from 1.76964 to 1.72227, saving model to saved_models/audio_classification_02:36:16.hdf5\n",
            "25/25 [==============================] - 1s 24ms/step - loss: 1.7440 - accuracy: 0.3509 - val_loss: 1.7223 - val_accuracy: 0.3900\n",
            "Epoch 27/100\n",
            "25/25 [==============================] - ETA: 0s - loss: 1.6935 - accuracy: 0.3521\n",
            "Epoch 27: val_loss did not improve from 1.72227\n",
            "25/25 [==============================] - 0s 18ms/step - loss: 1.6935 - accuracy: 0.3521 - val_loss: 1.7273 - val_accuracy: 0.3950\n",
            "Epoch 28/100\n",
            "23/25 [==========================>...] - ETA: 0s - loss: 1.7050 - accuracy: 0.3397\n",
            "Epoch 28: val_loss did not improve from 1.72227\n",
            "25/25 [==============================] - 0s 19ms/step - loss: 1.7136 - accuracy: 0.3308 - val_loss: 1.7373 - val_accuracy: 0.3650\n",
            "Epoch 29/100\n",
            "24/25 [===========================>..] - ETA: 0s - loss: 1.7056 - accuracy: 0.3594\n",
            "Epoch 29: val_loss improved from 1.72227 to 1.71092, saving model to saved_models/audio_classification_02:36:16.hdf5\n",
            "25/25 [==============================] - 1s 22ms/step - loss: 1.6914 - accuracy: 0.3659 - val_loss: 1.7109 - val_accuracy: 0.3800\n",
            "Epoch 30/100\n",
            "24/25 [===========================>..] - ETA: 0s - loss: 1.6846 - accuracy: 0.3542\n",
            "Epoch 30: val_loss improved from 1.71092 to 1.67896, saving model to saved_models/audio_classification_02:36:16.hdf5\n",
            "25/25 [==============================] - 1s 24ms/step - loss: 1.6724 - accuracy: 0.3596 - val_loss: 1.6790 - val_accuracy: 0.3650\n",
            "Epoch 31/100\n",
            "24/25 [===========================>..] - ETA: 0s - loss: 1.6402 - accuracy: 0.3763\n",
            "Epoch 31: val_loss improved from 1.67896 to 1.67285, saving model to saved_models/audio_classification_02:36:16.hdf5\n",
            "25/25 [==============================] - 1s 24ms/step - loss: 1.6457 - accuracy: 0.3747 - val_loss: 1.6728 - val_accuracy: 0.3500\n",
            "Epoch 32/100\n",
            "25/25 [==============================] - ETA: 0s - loss: 1.6555 - accuracy: 0.3797\n",
            "Epoch 32: val_loss improved from 1.67285 to 1.66527, saving model to saved_models/audio_classification_02:36:16.hdf5\n",
            "25/25 [==============================] - 1s 23ms/step - loss: 1.6555 - accuracy: 0.3797 - val_loss: 1.6653 - val_accuracy: 0.4000\n",
            "Epoch 33/100\n",
            "25/25 [==============================] - ETA: 0s - loss: 1.5880 - accuracy: 0.3810\n",
            "Epoch 33: val_loss improved from 1.66527 to 1.64195, saving model to saved_models/audio_classification_02:36:16.hdf5\n",
            "25/25 [==============================] - 1s 22ms/step - loss: 1.5880 - accuracy: 0.3810 - val_loss: 1.6419 - val_accuracy: 0.3950\n",
            "Epoch 34/100\n",
            "24/25 [===========================>..] - ETA: 0s - loss: 1.5933 - accuracy: 0.3919\n",
            "Epoch 34: val_loss did not improve from 1.64195\n",
            "25/25 [==============================] - 1s 26ms/step - loss: 1.5959 - accuracy: 0.3897 - val_loss: 1.6884 - val_accuracy: 0.4250\n",
            "Epoch 35/100\n",
            "23/25 [==========================>...] - ETA: 0s - loss: 1.5847 - accuracy: 0.3913\n",
            "Epoch 35: val_loss improved from 1.64195 to 1.63452, saving model to saved_models/audio_classification_02:36:16.hdf5\n",
            "25/25 [==============================] - 1s 33ms/step - loss: 1.5925 - accuracy: 0.3922 - val_loss: 1.6345 - val_accuracy: 0.4050\n",
            "Epoch 36/100\n",
            "25/25 [==============================] - ETA: 0s - loss: 1.6318 - accuracy: 0.4173\n",
            "Epoch 36: val_loss did not improve from 1.63452\n",
            "25/25 [==============================] - 1s 26ms/step - loss: 1.6318 - accuracy: 0.4173 - val_loss: 1.6657 - val_accuracy: 0.4500\n",
            "Epoch 37/100\n",
            "24/25 [===========================>..] - ETA: 0s - loss: 1.5580 - accuracy: 0.3997\n",
            "Epoch 37: val_loss improved from 1.63452 to 1.60232, saving model to saved_models/audio_classification_02:36:16.hdf5\n",
            "25/25 [==============================] - 1s 33ms/step - loss: 1.5598 - accuracy: 0.3972 - val_loss: 1.6023 - val_accuracy: 0.4100\n",
            "Epoch 38/100\n",
            "24/25 [===========================>..] - ETA: 0s - loss: 1.5622 - accuracy: 0.3958\n",
            "Epoch 38: val_loss did not improve from 1.60232\n",
            "25/25 [==============================] - 1s 27ms/step - loss: 1.5619 - accuracy: 0.3960 - val_loss: 1.6160 - val_accuracy: 0.4150\n",
            "Epoch 39/100\n",
            "25/25 [==============================] - ETA: 0s - loss: 1.5430 - accuracy: 0.3922\n",
            "Epoch 39: val_loss did not improve from 1.60232\n",
            "25/25 [==============================] - 1s 30ms/step - loss: 1.5430 - accuracy: 0.3922 - val_loss: 1.6416 - val_accuracy: 0.4250\n",
            "Epoch 40/100\n",
            "23/25 [==========================>...] - ETA: 0s - loss: 1.5198 - accuracy: 0.4090\n",
            "Epoch 40: val_loss did not improve from 1.60232\n",
            "25/25 [==============================] - 0s 20ms/step - loss: 1.5328 - accuracy: 0.4135 - val_loss: 1.6141 - val_accuracy: 0.4300\n",
            "Epoch 41/100\n",
            "23/25 [==========================>...] - ETA: 0s - loss: 1.4631 - accuracy: 0.4416\n",
            "Epoch 41: val_loss did not improve from 1.60232\n",
            "25/25 [==============================] - 0s 19ms/step - loss: 1.4677 - accuracy: 0.4386 - val_loss: 1.6457 - val_accuracy: 0.4700\n",
            "Epoch 42/100\n",
            "24/25 [===========================>..] - ETA: 0s - loss: 1.5216 - accuracy: 0.4479\n",
            "Epoch 42: val_loss improved from 1.60232 to 1.59556, saving model to saved_models/audio_classification_02:36:16.hdf5\n",
            "25/25 [==============================] - 1s 21ms/step - loss: 1.5327 - accuracy: 0.4424 - val_loss: 1.5956 - val_accuracy: 0.4850\n",
            "Epoch 43/100\n",
            "24/25 [===========================>..] - ETA: 0s - loss: 1.4994 - accuracy: 0.4245\n",
            "Epoch 43: val_loss improved from 1.59556 to 1.59483, saving model to saved_models/audio_classification_02:36:16.hdf5\n",
            "25/25 [==============================] - 1s 23ms/step - loss: 1.5020 - accuracy: 0.4236 - val_loss: 1.5948 - val_accuracy: 0.4050\n",
            "Epoch 44/100\n",
            "25/25 [==============================] - ETA: 0s - loss: 1.4643 - accuracy: 0.4474\n",
            "Epoch 44: val_loss did not improve from 1.59483\n",
            "25/25 [==============================] - 0s 19ms/step - loss: 1.4643 - accuracy: 0.4474 - val_loss: 1.6394 - val_accuracy: 0.4100\n",
            "Epoch 45/100\n",
            "24/25 [===========================>..] - ETA: 0s - loss: 1.4703 - accuracy: 0.4414\n",
            "Epoch 45: val_loss did not improve from 1.59483\n",
            "25/25 [==============================] - 0s 18ms/step - loss: 1.4641 - accuracy: 0.4449 - val_loss: 1.6877 - val_accuracy: 0.4550\n",
            "Epoch 46/100\n",
            "24/25 [===========================>..] - ETA: 0s - loss: 1.4605 - accuracy: 0.4557\n",
            "Epoch 46: val_loss did not improve from 1.59483\n",
            "25/25 [==============================] - 0s 18ms/step - loss: 1.4539 - accuracy: 0.4549 - val_loss: 1.7258 - val_accuracy: 0.4400\n",
            "Epoch 47/100\n",
            "23/25 [==========================>...] - ETA: 0s - loss: 1.3766 - accuracy: 0.4783\n",
            "Epoch 47: val_loss did not improve from 1.59483\n",
            "25/25 [==============================] - 0s 18ms/step - loss: 1.4157 - accuracy: 0.4712 - val_loss: 1.6192 - val_accuracy: 0.4750\n",
            "Epoch 48/100\n",
            "23/25 [==========================>...] - ETA: 0s - loss: 1.4078 - accuracy: 0.4647\n",
            "Epoch 48: val_loss did not improve from 1.59483\n",
            "25/25 [==============================] - 0s 20ms/step - loss: 1.3982 - accuracy: 0.4699 - val_loss: 1.6240 - val_accuracy: 0.4750\n",
            "Epoch 49/100\n",
            "24/25 [===========================>..] - ETA: 0s - loss: 1.3707 - accuracy: 0.4857\n",
            "Epoch 49: val_loss improved from 1.59483 to 1.58383, saving model to saved_models/audio_classification_02:36:16.hdf5\n",
            "25/25 [==============================] - 1s 24ms/step - loss: 1.3705 - accuracy: 0.4837 - val_loss: 1.5838 - val_accuracy: 0.4650\n",
            "Epoch 50/100\n",
            "25/25 [==============================] - ETA: 0s - loss: 1.3959 - accuracy: 0.4862\n",
            "Epoch 50: val_loss did not improve from 1.58383\n",
            "25/25 [==============================] - 0s 19ms/step - loss: 1.3959 - accuracy: 0.4862 - val_loss: 1.6696 - val_accuracy: 0.4450\n",
            "Epoch 51/100\n",
            "22/25 [=========================>....] - ETA: 0s - loss: 1.3684 - accuracy: 0.4688\n",
            "Epoch 51: val_loss improved from 1.58383 to 1.52329, saving model to saved_models/audio_classification_02:36:16.hdf5\n",
            "25/25 [==============================] - 1s 22ms/step - loss: 1.3669 - accuracy: 0.4699 - val_loss: 1.5233 - val_accuracy: 0.4250\n",
            "Epoch 52/100\n",
            "25/25 [==============================] - ETA: 0s - loss: 1.3630 - accuracy: 0.4649\n",
            "Epoch 52: val_loss improved from 1.52329 to 1.51126, saving model to saved_models/audio_classification_02:36:16.hdf5\n",
            "25/25 [==============================] - 1s 23ms/step - loss: 1.3630 - accuracy: 0.4649 - val_loss: 1.5113 - val_accuracy: 0.4450\n",
            "Epoch 53/100\n",
            "25/25 [==============================] - ETA: 0s - loss: 1.3510 - accuracy: 0.4787\n",
            "Epoch 53: val_loss did not improve from 1.51126\n",
            "25/25 [==============================] - 0s 18ms/step - loss: 1.3510 - accuracy: 0.4787 - val_loss: 1.6177 - val_accuracy: 0.3850\n",
            "Epoch 54/100\n",
            "24/25 [===========================>..] - ETA: 0s - loss: 1.3481 - accuracy: 0.5013\n",
            "Epoch 54: val_loss did not improve from 1.51126\n",
            "25/25 [==============================] - 0s 18ms/step - loss: 1.3426 - accuracy: 0.5025 - val_loss: 1.6658 - val_accuracy: 0.4700\n",
            "Epoch 55/100\n",
            "23/25 [==========================>...] - ETA: 0s - loss: 1.3306 - accuracy: 0.4973\n",
            "Epoch 55: val_loss did not improve from 1.51126\n",
            "25/25 [==============================] - 0s 20ms/step - loss: 1.3204 - accuracy: 0.5050 - val_loss: 1.5166 - val_accuracy: 0.4900\n",
            "Epoch 56/100\n",
            "23/25 [==========================>...] - ETA: 0s - loss: 1.2893 - accuracy: 0.5109\n",
            "Epoch 56: val_loss did not improve from 1.51126\n",
            "25/25 [==============================] - 1s 20ms/step - loss: 1.2987 - accuracy: 0.5075 - val_loss: 1.6203 - val_accuracy: 0.5200\n",
            "Epoch 57/100\n",
            "24/25 [===========================>..] - ETA: 0s - loss: 1.2934 - accuracy: 0.5078\n",
            "Epoch 57: val_loss did not improve from 1.51126\n",
            "25/25 [==============================] - 0s 18ms/step - loss: 1.2805 - accuracy: 0.5125 - val_loss: 1.6925 - val_accuracy: 0.4900\n",
            "Epoch 58/100\n",
            "24/25 [===========================>..] - ETA: 0s - loss: 1.3294 - accuracy: 0.4961\n",
            "Epoch 58: val_loss improved from 1.51126 to 1.45531, saving model to saved_models/audio_classification_02:36:16.hdf5\n",
            "25/25 [==============================] - 1s 24ms/step - loss: 1.3321 - accuracy: 0.4937 - val_loss: 1.4553 - val_accuracy: 0.4100\n",
            "Epoch 59/100\n",
            "23/25 [==========================>...] - ETA: 0s - loss: 1.2969 - accuracy: 0.4878\n",
            "Epoch 59: val_loss did not improve from 1.45531\n",
            "25/25 [==============================] - 1s 24ms/step - loss: 1.2912 - accuracy: 0.4900 - val_loss: 1.5114 - val_accuracy: 0.5150\n",
            "Epoch 60/100\n",
            "24/25 [===========================>..] - ETA: 0s - loss: 1.2723 - accuracy: 0.5143\n",
            "Epoch 60: val_loss did not improve from 1.45531\n",
            "25/25 [==============================] - 1s 25ms/step - loss: 1.2639 - accuracy: 0.5238 - val_loss: 1.4611 - val_accuracy: 0.4750\n",
            "Epoch 61/100\n",
            "25/25 [==============================] - ETA: 0s - loss: 1.2558 - accuracy: 0.5013\n",
            "Epoch 61: val_loss did not improve from 1.45531\n",
            "25/25 [==============================] - 1s 27ms/step - loss: 1.2558 - accuracy: 0.5013 - val_loss: 1.5119 - val_accuracy: 0.5150\n",
            "Epoch 62/100\n",
            "25/25 [==============================] - ETA: 0s - loss: 1.2782 - accuracy: 0.5251\n",
            "Epoch 62: val_loss did not improve from 1.45531\n",
            "25/25 [==============================] - 1s 26ms/step - loss: 1.2782 - accuracy: 0.5251 - val_loss: 1.5945 - val_accuracy: 0.5300\n",
            "Epoch 63/100\n",
            "24/25 [===========================>..] - ETA: 0s - loss: 1.2354 - accuracy: 0.5182\n",
            "Epoch 63: val_loss improved from 1.45531 to 1.44358, saving model to saved_models/audio_classification_02:36:16.hdf5\n",
            "25/25 [==============================] - 1s 32ms/step - loss: 1.2351 - accuracy: 0.5201 - val_loss: 1.4436 - val_accuracy: 0.5350\n",
            "Epoch 64/100\n",
            "25/25 [==============================] - ETA: 0s - loss: 1.1909 - accuracy: 0.5376\n",
            "Epoch 64: val_loss did not improve from 1.44358\n",
            "25/25 [==============================] - 1s 29ms/step - loss: 1.1909 - accuracy: 0.5376 - val_loss: 1.5411 - val_accuracy: 0.5250\n",
            "Epoch 65/100\n",
            "24/25 [===========================>..] - ETA: 0s - loss: 1.1729 - accuracy: 0.5703\n",
            "Epoch 65: val_loss did not improve from 1.44358\n",
            "25/25 [==============================] - 1s 25ms/step - loss: 1.1663 - accuracy: 0.5702 - val_loss: 1.5693 - val_accuracy: 0.5150\n",
            "Epoch 66/100\n",
            "25/25 [==============================] - ETA: 0s - loss: 1.2109 - accuracy: 0.5614\n",
            "Epoch 66: val_loss did not improve from 1.44358\n",
            "25/25 [==============================] - 1s 20ms/step - loss: 1.2109 - accuracy: 0.5614 - val_loss: 1.4746 - val_accuracy: 0.5300\n",
            "Epoch 67/100\n",
            "24/25 [===========================>..] - ETA: 0s - loss: 1.1955 - accuracy: 0.5195\n",
            "Epoch 67: val_loss improved from 1.44358 to 1.43061, saving model to saved_models/audio_classification_02:36:16.hdf5\n",
            "25/25 [==============================] - 1s 22ms/step - loss: 1.1907 - accuracy: 0.5188 - val_loss: 1.4306 - val_accuracy: 0.5450\n",
            "Epoch 68/100\n",
            "24/25 [===========================>..] - ETA: 0s - loss: 1.1230 - accuracy: 0.5703\n",
            "Epoch 68: val_loss did not improve from 1.43061\n",
            "25/25 [==============================] - 1s 20ms/step - loss: 1.1165 - accuracy: 0.5739 - val_loss: 1.4489 - val_accuracy: 0.5600\n",
            "Epoch 69/100\n",
            "23/25 [==========================>...] - ETA: 0s - loss: 1.0572 - accuracy: 0.6182\n",
            "Epoch 69: val_loss did not improve from 1.43061\n",
            "25/25 [==============================] - 1s 20ms/step - loss: 1.0774 - accuracy: 0.6103 - val_loss: 1.6600 - val_accuracy: 0.5200\n",
            "Epoch 70/100\n",
            "23/25 [==========================>...] - ETA: 0s - loss: 1.1816 - accuracy: 0.5476\n",
            "Epoch 70: val_loss did not improve from 1.43061\n",
            "25/25 [==============================] - 0s 18ms/step - loss: 1.1661 - accuracy: 0.5514 - val_loss: 1.5527 - val_accuracy: 0.5050\n",
            "Epoch 71/100\n",
            "24/25 [===========================>..] - ETA: 0s - loss: 1.1068 - accuracy: 0.6107\n",
            "Epoch 71: val_loss did not improve from 1.43061\n",
            "25/25 [==============================] - 0s 20ms/step - loss: 1.1044 - accuracy: 0.6115 - val_loss: 1.4703 - val_accuracy: 0.4950\n",
            "Epoch 72/100\n",
            "23/25 [==========================>...] - ETA: 0s - loss: 1.1080 - accuracy: 0.5747\n",
            "Epoch 72: val_loss did not improve from 1.43061\n",
            "25/25 [==============================] - 0s 20ms/step - loss: 1.1008 - accuracy: 0.5752 - val_loss: 1.4726 - val_accuracy: 0.5550\n",
            "Epoch 73/100\n",
            "24/25 [===========================>..] - ETA: 0s - loss: 1.0481 - accuracy: 0.6094\n",
            "Epoch 73: val_loss did not improve from 1.43061\n",
            "25/25 [==============================] - 0s 18ms/step - loss: 1.0500 - accuracy: 0.6090 - val_loss: 1.6334 - val_accuracy: 0.5200\n",
            "Epoch 74/100\n",
            "22/25 [=========================>....] - ETA: 0s - loss: 1.1188 - accuracy: 0.5994\n",
            "Epoch 74: val_loss did not improve from 1.43061\n",
            "25/25 [==============================] - 1s 20ms/step - loss: 1.1329 - accuracy: 0.5977 - val_loss: 1.7067 - val_accuracy: 0.5500\n",
            "Epoch 75/100\n",
            "25/25 [==============================] - ETA: 0s - loss: 1.0811 - accuracy: 0.6040\n",
            "Epoch 75: val_loss did not improve from 1.43061\n",
            "25/25 [==============================] - 0s 18ms/step - loss: 1.0811 - accuracy: 0.6040 - val_loss: 1.4858 - val_accuracy: 0.5200\n",
            "Epoch 76/100\n",
            "24/25 [===========================>..] - ETA: 0s - loss: 1.0367 - accuracy: 0.6133\n",
            "Epoch 76: val_loss did not improve from 1.43061\n",
            "25/25 [==============================] - 1s 20ms/step - loss: 1.0507 - accuracy: 0.6065 - val_loss: 1.5708 - val_accuracy: 0.5250\n",
            "Epoch 77/100\n",
            "23/25 [==========================>...] - ETA: 0s - loss: 1.0982 - accuracy: 0.6060\n",
            "Epoch 77: val_loss did not improve from 1.43061\n",
            "25/25 [==============================] - 0s 19ms/step - loss: 1.1046 - accuracy: 0.6090 - val_loss: 1.5802 - val_accuracy: 0.5450\n",
            "Epoch 78/100\n",
            "23/25 [==========================>...] - ETA: 0s - loss: 1.0032 - accuracy: 0.6440\n",
            "Epoch 78: val_loss did not improve from 1.43061\n",
            "25/25 [==============================] - 0s 19ms/step - loss: 0.9958 - accuracy: 0.6479 - val_loss: 1.6323 - val_accuracy: 0.5850\n",
            "Epoch 79/100\n",
            "22/25 [=========================>....] - ETA: 0s - loss: 0.9841 - accuracy: 0.6591\n",
            "Epoch 79: val_loss did not improve from 1.43061\n",
            "25/25 [==============================] - 1s 20ms/step - loss: 0.9842 - accuracy: 0.6591 - val_loss: 1.4702 - val_accuracy: 0.5850\n",
            "Epoch 80/100\n",
            "23/25 [==========================>...] - ETA: 0s - loss: 0.9991 - accuracy: 0.6535\n",
            "Epoch 80: val_loss did not improve from 1.43061\n",
            "25/25 [==============================] - 0s 18ms/step - loss: 1.0020 - accuracy: 0.6479 - val_loss: 1.5844 - val_accuracy: 0.5550\n",
            "Epoch 81/100\n",
            "24/25 [===========================>..] - ETA: 0s - loss: 1.0235 - accuracy: 0.6523\n",
            "Epoch 81: val_loss did not improve from 1.43061\n",
            "25/25 [==============================] - 0s 18ms/step - loss: 1.0070 - accuracy: 0.6579 - val_loss: 1.7856 - val_accuracy: 0.5650\n",
            "Epoch 82/100\n",
            "22/25 [=========================>....] - ETA: 0s - loss: 0.9403 - accuracy: 0.6449\n",
            "Epoch 82: val_loss did not improve from 1.43061\n",
            "25/25 [==============================] - 0s 18ms/step - loss: 0.9205 - accuracy: 0.6504 - val_loss: 1.8585 - val_accuracy: 0.5350\n",
            "Epoch 83/100\n",
            "25/25 [==============================] - ETA: 0s - loss: 0.9388 - accuracy: 0.6679\n",
            "Epoch 83: val_loss did not improve from 1.43061\n",
            "25/25 [==============================] - 0s 19ms/step - loss: 0.9388 - accuracy: 0.6679 - val_loss: 1.6950 - val_accuracy: 0.5400\n",
            "Epoch 84/100\n",
            "24/25 [===========================>..] - ETA: 0s - loss: 1.0253 - accuracy: 0.6341\n",
            "Epoch 84: val_loss did not improve from 1.43061\n",
            "25/25 [==============================] - 0s 18ms/step - loss: 1.0175 - accuracy: 0.6353 - val_loss: 1.6030 - val_accuracy: 0.5450\n",
            "Epoch 85/100\n",
            "23/25 [==========================>...] - ETA: 0s - loss: 0.9379 - accuracy: 0.6685\n",
            "Epoch 85: val_loss did not improve from 1.43061\n",
            "25/25 [==============================] - 0s 18ms/step - loss: 0.9257 - accuracy: 0.6692 - val_loss: 1.4669 - val_accuracy: 0.5850\n",
            "Epoch 86/100\n",
            "23/25 [==========================>...] - ETA: 0s - loss: 0.9093 - accuracy: 0.6793\n",
            "Epoch 86: val_loss did not improve from 1.43061\n",
            "25/25 [==============================] - 1s 27ms/step - loss: 0.9120 - accuracy: 0.6729 - val_loss: 1.6125 - val_accuracy: 0.5950\n",
            "Epoch 87/100\n",
            "25/25 [==============================] - ETA: 0s - loss: 0.9481 - accuracy: 0.6855\n",
            "Epoch 87: val_loss did not improve from 1.43061\n",
            "25/25 [==============================] - 1s 30ms/step - loss: 0.9481 - accuracy: 0.6855 - val_loss: 1.7224 - val_accuracy: 0.5350\n",
            "Epoch 88/100\n",
            "24/25 [===========================>..] - ETA: 0s - loss: 0.9115 - accuracy: 0.6914\n",
            "Epoch 88: val_loss did not improve from 1.43061\n",
            "25/25 [==============================] - 1s 27ms/step - loss: 0.8941 - accuracy: 0.6980 - val_loss: 1.6859 - val_accuracy: 0.5900\n",
            "Epoch 89/100\n",
            "24/25 [===========================>..] - ETA: 0s - loss: 0.9293 - accuracy: 0.6810\n",
            "Epoch 89: val_loss did not improve from 1.43061\n",
            "25/25 [==============================] - 1s 27ms/step - loss: 0.9272 - accuracy: 0.6817 - val_loss: 1.7303 - val_accuracy: 0.5600\n",
            "Epoch 90/100\n",
            "24/25 [===========================>..] - ETA: 0s - loss: 0.8561 - accuracy: 0.6953\n",
            "Epoch 90: val_loss did not improve from 1.43061\n",
            "25/25 [==============================] - 1s 29ms/step - loss: 0.8508 - accuracy: 0.6980 - val_loss: 1.7456 - val_accuracy: 0.5500\n",
            "Epoch 91/100\n",
            "25/25 [==============================] - ETA: 0s - loss: 0.8334 - accuracy: 0.7093\n",
            "Epoch 91: val_loss did not improve from 1.43061\n",
            "25/25 [==============================] - 1s 30ms/step - loss: 0.8334 - accuracy: 0.7093 - val_loss: 1.6236 - val_accuracy: 0.5750\n",
            "Epoch 92/100\n",
            "24/25 [===========================>..] - ETA: 0s - loss: 0.7689 - accuracy: 0.7227\n",
            "Epoch 92: val_loss did not improve from 1.43061\n",
            "25/25 [==============================] - 1s 22ms/step - loss: 0.7729 - accuracy: 0.7168 - val_loss: 1.7240 - val_accuracy: 0.5700\n",
            "Epoch 93/100\n",
            "22/25 [=========================>....] - ETA: 0s - loss: 0.9917 - accuracy: 0.6790\n",
            "Epoch 93: val_loss did not improve from 1.43061\n",
            "25/25 [==============================] - 0s 19ms/step - loss: 0.9808 - accuracy: 0.6767 - val_loss: 1.6040 - val_accuracy: 0.5550\n",
            "Epoch 94/100\n",
            "24/25 [===========================>..] - ETA: 0s - loss: 0.9184 - accuracy: 0.6862\n",
            "Epoch 94: val_loss did not improve from 1.43061\n",
            "25/25 [==============================] - 0s 18ms/step - loss: 0.9093 - accuracy: 0.6892 - val_loss: 1.6623 - val_accuracy: 0.5650\n",
            "Epoch 95/100\n",
            "23/25 [==========================>...] - ETA: 0s - loss: 0.8380 - accuracy: 0.7160\n",
            "Epoch 95: val_loss did not improve from 1.43061\n",
            "25/25 [==============================] - 1s 20ms/step - loss: 0.8178 - accuracy: 0.7180 - val_loss: 1.7773 - val_accuracy: 0.5700\n",
            "Epoch 96/100\n",
            "23/25 [==========================>...] - ETA: 0s - loss: 0.8359 - accuracy: 0.7228\n",
            "Epoch 96: val_loss did not improve from 1.43061\n",
            "25/25 [==============================] - 0s 19ms/step - loss: 0.8350 - accuracy: 0.7218 - val_loss: 1.9255 - val_accuracy: 0.5600\n",
            "Epoch 97/100\n",
            "23/25 [==========================>...] - ETA: 0s - loss: 0.8210 - accuracy: 0.7160\n",
            "Epoch 97: val_loss did not improve from 1.43061\n",
            "25/25 [==============================] - 1s 20ms/step - loss: 0.8095 - accuracy: 0.7143 - val_loss: 1.6530 - val_accuracy: 0.6150\n",
            "Epoch 98/100\n",
            "22/25 [=========================>....] - ETA: 0s - loss: 0.8074 - accuracy: 0.7443\n",
            "Epoch 98: val_loss did not improve from 1.43061\n",
            "25/25 [==============================] - 0s 18ms/step - loss: 0.8039 - accuracy: 0.7406 - val_loss: 1.7554 - val_accuracy: 0.5650\n",
            "Epoch 99/100\n",
            "24/25 [===========================>..] - ETA: 0s - loss: 0.7719 - accuracy: 0.7474\n",
            "Epoch 99: val_loss did not improve from 1.43061\n",
            "25/25 [==============================] - 1s 20ms/step - loss: 0.7578 - accuracy: 0.7519 - val_loss: 1.8101 - val_accuracy: 0.5950\n",
            "Epoch 100/100\n",
            "23/25 [==========================>...] - ETA: 0s - loss: 0.7499 - accuracy: 0.7391\n",
            "Epoch 100: val_loss did not improve from 1.43061\n",
            "25/25 [==============================] - 0s 18ms/step - loss: 0.7611 - accuracy: 0.7356 - val_loss: 1.8962 - val_accuracy: 0.6100\n",
            "Training completed in time:  0:01:27.291766\n"
          ]
        }
      ]
    },
    {
      "cell_type": "code",
      "source": [
        "model.evaluate(X_test, y_test, verbose = 0)"
      ],
      "metadata": {
        "id": "T8IQrL_mhHYQ",
        "colab": {
          "base_uri": "https://localhost:8080/"
        },
        "outputId": "b1112fdf-5079-4f27-c1f4-bc6ef9a809cd"
      },
      "execution_count": null,
      "outputs": [
        {
          "output_type": "execute_result",
          "data": {
            "text/plain": [
              "[1.8962419033050537, 0.6100000143051147]"
            ]
          },
          "metadata": {},
          "execution_count": 26
        }
      ]
    },
    {
      "cell_type": "code",
      "source": [
        "pd.DataFrame(history.history).plot(figsize=(12,6))\n",
        "plt.show()"
      ],
      "metadata": {
        "id": "h-9DD8WyhUA2",
        "colab": {
          "base_uri": "https://localhost:8080/",
          "height": 353
        },
        "outputId": "32be8eec-1059-4ebc-c2ee-dae76b3f4727"
      },
      "execution_count": null,
      "outputs": [
        {
          "output_type": "display_data",
          "data": {
            "text/plain": [
              "<Figure size 1200x600 with 1 Axes>"
            ],
            "image/png": "[encoded data removed]"
          },
          "metadata": {}
        }
      ]
    },
    {
      "cell_type": "code",
      "source": [
        "predict_x=model.predict(X_test)\n",
        "classes_x=np.argmax(predict_x,axis=1)"
      ],
      "metadata": {
        "id": "iISTRwHihuOA",
        "colab": {
          "base_uri": "https://localhost:8080/"
        },
        "outputId": "cf514f10-4b3e-47af-c344-065b27794a33"
      },
      "execution_count": null,
      "outputs": [
        {
          "output_type": "stream",
          "name": "stdout",
          "text": [
            "7/7 [==============================] - 0s 4ms/step\n"
          ]
        }
      ]
    },
    {
      "cell_type": "code",
      "source": [
        "filename = '/content/drive/My Drive/Colab_Notebooks/Music_Genre_Classification/archive/Data/genres_original/metal/metal.00000.wav'\n",
        "audio, sample_rate = librosa.load(filename, res_type = 'kaiser fast')\n",
        "mfccs_features = librosa.feature.mfcc(y=audio,sr=sample_rate,n_mfcc = 40)\n",
        "mfccs_scaled_features = np.mean(mfccs_features.T, axis = 0)\n",
        "\n",
        "print(mfccs_scaled_features)\n",
        "mfccs_scaled_features = mfccs_scaled_features.reshape(1, -1)\n",
        "print(mfccs_scaled_features)\n",
        "print(mfccs_scaled_features.shape)\n",
        "\n",
        "predicted_probabilities = model.predict(mfccs_scaled_features)\n",
        "predicted_label = np.argmax(predicted_probabilities, axis=1)\n",
        "print(predicted_label)\n",
        "prediction_class = labelencoder.inverse_transform(predicted_label)\n",
        "prediction_class"
      ],
      "metadata": {
        "id": "JwpwQCCKiGa-",
        "colab": {
          "base_uri": "https://localhost:8080/"
        },
        "outputId": "7e48437f-e706-4492-f0b8-dd540ff8aae6"
      },
      "execution_count": null,
      "outputs": [
        {
          "output_type": "stream",
          "name": "stdout",
          "text": [
            "[-52.940304    50.09013    -11.491269    46.324932     6.543001\n",
            "  10.116378     5.4855285    8.844899     5.929942     6.625154\n",
            "  -4.033035     9.778293    -3.1172316    3.653597    -6.502194\n",
            "   1.0854731   -4.482196     4.709674    -2.755327     0.4985645\n",
            "  -9.29338      2.0262656   -3.4876702    2.5047514   -4.658039\n",
            "  -1.8967493   -5.6836166   -3.1856866   -4.818261     0.85869867\n",
            "  -5.7388225   -0.4105425   -5.2758536    0.46732435  -0.60271835\n",
            "  -0.6577608   -2.4302607    1.9490244   -4.047967    -2.844565  ]\n",
            "[[-52.940304    50.09013    -11.491269    46.324932     6.543001\n",
            "   10.116378     5.4855285    8.844899     5.929942     6.625154\n",
            "   -4.033035     9.778293    -3.1172316    3.653597    -6.502194\n",
            "    1.0854731   -4.482196     4.709674    -2.755327     0.4985645\n",
            "   -9.29338      2.0262656   -3.4876702    2.5047514   -4.658039\n",
            "   -1.8967493   -5.6836166   -3.1856866   -4.818261     0.85869867\n",
            "   -5.7388225   -0.4105425   -5.2758536    0.46732435  -0.60271835\n",
            "   -0.6577608   -2.4302607    1.9490244   -4.047967    -2.844565  ]]\n",
            "(1, 40)\n",
            "1/1 [==============================] - 0s 32ms/step\n",
            "[6]\n"
          ]
        },
        {
          "output_type": "execute_result",
          "data": {
            "text/plain": [
              "array(['metal'], dtype='<U9')"
            ]
          },
          "metadata": {},
          "execution_count": 29
        }
      ]
    },
    {
      "cell_type": "code",
      "source": [
        "filename = '/content/drive/My Drive/Colab_Notebooks/Music_Genre_Classification/archive/Data/genres_original/classical/classical.00000.wav'\n",
        "audio, sample_rate = librosa.load(filename, res_type = 'kaiser fast')\n",
        "mfccs_features = librosa.feature.mfcc(y=audio,sr=sample_rate,n_mfcc = 40)\n",
        "mfccs_scaled_features = np.mean(mfccs_features.T, axis = 0)\n",
        "\n",
        "print(mfccs_scaled_features)\n",
        "mfccs_scaled_features = mfccs_scaled_features.reshape(1, -1)\n",
        "print(mfccs_scaled_features)\n",
        "print(mfccs_scaled_features.shape)\n",
        "\n",
        "predicted_probabilities = model.predict(mfccs_scaled_features)\n",
        "predicted_label = np.argmax(predicted_probabilities, axis=1)\n",
        "print(predicted_label)\n",
        "prediction_class = labelencoder.inverse_transform(predicted_label)\n",
        "prediction_class"
      ],
      "metadata": {
        "id": "CRMO3XQXwKWN",
        "colab": {
          "base_uri": "https://localhost:8080/"
        },
        "outputId": "e8aab55a-4275-400f-aad3-1d93fae325ec"
      },
      "execution_count": null,
      "outputs": [
        {
          "output_type": "stream",
          "name": "stdout",
          "text": [
            "[-2.6821857e+02  1.3568166e+02 -3.4056377e+01  2.5616009e+01\n",
            " -1.2971723e+01  1.7903263e+01 -9.9908600e+00  5.6340880e+00\n",
            " -1.4143673e+01  7.4931846e+00 -3.9764395e+00  8.2583084e+00\n",
            " -1.3336010e+00 -3.5799497e-01  1.0361007e+00  3.7968225e+00\n",
            " -3.1847075e-01  1.7730546e+00  8.8872147e-01 -8.3507770e-01\n",
            " -2.3076394e+00  1.6423588e-01  4.2131853e+00  6.9724411e-01\n",
            " -1.0828631e+00 -3.4678130e+00  3.2551622e+00 -4.1300349e+00\n",
            " -1.1310977e+00  2.3876605e+00  3.7769880e+00 -3.8947053e+00\n",
            " -3.3239865e+00 -1.2544751e+00  4.1171589e+00  5.9669650e-01\n",
            " -1.8132237e+00 -1.0317802e+00 -1.4721324e+00 -3.8261578e+00]\n",
            "[[-2.6821857e+02  1.3568166e+02 -3.4056377e+01  2.5616009e+01\n",
            "  -1.2971723e+01  1.7903263e+01 -9.9908600e+00  5.6340880e+00\n",
            "  -1.4143673e+01  7.4931846e+00 -3.9764395e+00  8.2583084e+00\n",
            "  -1.3336010e+00 -3.5799497e-01  1.0361007e+00  3.7968225e+00\n",
            "  -3.1847075e-01  1.7730546e+00  8.8872147e-01 -8.3507770e-01\n",
            "  -2.3076394e+00  1.6423588e-01  4.2131853e+00  6.9724411e-01\n",
            "  -1.0828631e+00 -3.4678130e+00  3.2551622e+00 -4.1300349e+00\n",
            "  -1.1310977e+00  2.3876605e+00  3.7769880e+00 -3.8947053e+00\n",
            "  -3.3239865e+00 -1.2544751e+00  4.1171589e+00  5.9669650e-01\n",
            "  -1.8132237e+00 -1.0317802e+00 -1.4721324e+00 -3.8261578e+00]]\n",
            "(1, 40)\n",
            "1/1 [==============================] - 0s 30ms/step\n",
            "[1]\n"
          ]
        },
        {
          "output_type": "execute_result",
          "data": {
            "text/plain": [
              "array(['classical'], dtype='<U9')"
            ]
          },
          "metadata": {},
          "execution_count": 30
        }
      ]
    },
    {
      "cell_type": "code",
      "source": [
        "filename = '/content/drive/My Drive/Colab_Notebooks/Music_Genre_Classification/archive/Data/genres_original/blues/blues.00000.wav'\n",
        "audio, sample_rate = librosa.load(filename, res_type = 'kaiser fast')\n",
        "mfccs_features = librosa.feature.mfcc(y=audio,sr=sample_rate,n_mfcc = 40)\n",
        "mfccs_scaled_features = np.mean(mfccs_features.T, axis = 0)\n",
        "\n",
        "print(mfccs_scaled_features)\n",
        "mfccs_scaled_features = mfccs_scaled_features.reshape(1, -1)\n",
        "print(mfccs_scaled_features)\n",
        "print(mfccs_scaled_features.shape)\n",
        "\n",
        "predicted_probabilities = model.predict(mfccs_scaled_features)\n",
        "predicted_label = np.argmax(predicted_probabilities, axis=1)\n",
        "print(predicted_label)\n",
        "prediction_class = labelencoder.inverse_transform(predicted_label)\n",
        "prediction_class"
      ],
      "metadata": {
        "id": "cMfPU6j2wV1n",
        "colab": {
          "base_uri": "https://localhost:8080/"
        },
        "outputId": "69126b4a-5461-40bc-9eb8-a2064fda16a4"
      },
      "execution_count": null,
      "outputs": [
        {
          "output_type": "stream",
          "name": "stdout",
          "text": [
            "[-1.1359882e+02  1.2157067e+02 -1.9162262e+01  4.2363941e+01\n",
            " -6.3622661e+00  1.8621931e+01 -1.3699734e+01  1.5339802e+01\n",
            " -1.2274305e+01  1.0970944e+01 -8.3260612e+00  8.8020878e+00\n",
            " -3.6699412e+00  5.7446752e+00 -5.1627831e+00  7.5170648e-01\n",
            " -1.6878541e+00 -4.0872991e-01 -2.3026767e+00  1.2224669e+00\n",
            " -3.5328746e+00 -1.1397806e+00 -4.2828279e+00 -4.2260838e+00\n",
            "  9.1518748e-01  9.1406375e-01 -5.7618070e+00 -3.9328036e+00\n",
            "  1.5094348e+00  2.6984653e+00  5.6560731e+00 -3.2690079e+00\n",
            " -2.0606370e-01 -2.9996979e+00  4.4763169e+00 -4.7685507e-01\n",
            "  6.0062852e+00 -5.9690390e-02 -3.4585848e+00 -1.8418322e+00]\n",
            "[[-1.1359882e+02  1.2157067e+02 -1.9162262e+01  4.2363941e+01\n",
            "  -6.3622661e+00  1.8621931e+01 -1.3699734e+01  1.5339802e+01\n",
            "  -1.2274305e+01  1.0970944e+01 -8.3260612e+00  8.8020878e+00\n",
            "  -3.6699412e+00  5.7446752e+00 -5.1627831e+00  7.5170648e-01\n",
            "  -1.6878541e+00 -4.0872991e-01 -2.3026767e+00  1.2224669e+00\n",
            "  -3.5328746e+00 -1.1397806e+00 -4.2828279e+00 -4.2260838e+00\n",
            "   9.1518748e-01  9.1406375e-01 -5.7618070e+00 -3.9328036e+00\n",
            "   1.5094348e+00  2.6984653e+00  5.6560731e+00 -3.2690079e+00\n",
            "  -2.0606370e-01 -2.9996979e+00  4.4763169e+00 -4.7685507e-01\n",
            "   6.0062852e+00 -5.9690390e-02 -3.4585848e+00 -1.8418322e+00]]\n",
            "(1, 40)\n",
            "1/1 [==============================] - 0s 34ms/step\n",
            "[2]\n"
          ]
        },
        {
          "output_type": "execute_result",
          "data": {
            "text/plain": [
              "array(['country'], dtype='<U9')"
            ]
          },
          "metadata": {},
          "execution_count": 32
        }
      ]
    }
  ]
}